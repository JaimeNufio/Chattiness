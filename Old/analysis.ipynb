{
 "cells": [
  {
   "cell_type": "code",
   "execution_count": 1,
   "metadata": {
    "vscode": {
     "languageId": "r"
    }
   },
   "outputs": [
    {
     "name": "stderr",
     "output_type": "stream",
     "text": [
      "Warning message:\n",
      "\"package 'tm' was built under R version 4.2.3\"\n",
      "Loading required package: NLP\n",
      "\n",
      "── \u001b[1mAttaching core tidyverse packages\u001b[22m ──────────────────────── tidyverse 2.0.0 ──\n",
      "\u001b[32m✔\u001b[39m \u001b[34mdplyr    \u001b[39m 1.1.0     \u001b[32m✔\u001b[39m \u001b[34mreadr    \u001b[39m 2.1.4\n",
      "\u001b[32m✔\u001b[39m \u001b[34mforcats  \u001b[39m 1.0.0     \u001b[32m✔\u001b[39m \u001b[34mstringr  \u001b[39m 1.5.0\n",
      "\u001b[32m✔\u001b[39m \u001b[34mggplot2  \u001b[39m 3.4.1     \u001b[32m✔\u001b[39m \u001b[34mtibble   \u001b[39m 3.1.8\n",
      "\u001b[32m✔\u001b[39m \u001b[34mlubridate\u001b[39m 1.9.2     \u001b[32m✔\u001b[39m \u001b[34mtidyr    \u001b[39m 1.3.0\n",
      "\u001b[32m✔\u001b[39m \u001b[34mpurrr    \u001b[39m 1.0.1     \n",
      "── \u001b[1mConflicts\u001b[22m ────────────────────────────────────────── tidyverse_conflicts() ──\n",
      "\u001b[31m✖\u001b[39m \u001b[34mggplot2\u001b[39m::\u001b[32mannotate()\u001b[39m masks \u001b[34mNLP\u001b[39m::annotate()\n",
      "\u001b[31m✖\u001b[39m \u001b[34mdplyr\u001b[39m::\u001b[32mfilter()\u001b[39m     masks \u001b[34mstats\u001b[39m::filter()\n",
      "\u001b[31m✖\u001b[39m \u001b[34mdplyr\u001b[39m::\u001b[32mlag()\u001b[39m        masks \u001b[34mstats\u001b[39m::lag()\n",
      "\u001b[36mℹ\u001b[39m Use the conflicted package (\u001b[3m\u001b[34m<http://conflicted.r-lib.org/>\u001b[39m\u001b[23m) to force all conflicts to become errors\n",
      "Warning message:\n",
      "\"package 'textstem' was built under R version 4.2.3\"\n",
      "Loading required package: koRpus.lang.en\n",
      "\n",
      "Warning message:\n",
      "\"package 'koRpus.lang.en' was built under R version 4.2.3\"\n",
      "Loading required package: koRpus\n",
      "\n",
      "Warning message:\n",
      "\"package 'koRpus' was built under R version 4.2.3\"\n",
      "Loading required package: sylly\n",
      "\n",
      "Warning message:\n",
      "\"package 'sylly' was built under R version 4.2.3\"\n",
      "For information on available language packages for 'koRpus', run\n",
      "\n",
      "  available.koRpus.lang()\n",
      "\n",
      "and see ?install.koRpus.lang()\n",
      "\n",
      "\n",
      "\n",
      "Attaching package: 'koRpus'\n",
      "\n",
      "\n",
      "The following object is masked from 'package:readr':\n",
      "\n",
      "    tokenize\n",
      "\n",
      "\n",
      "The following object is masked from 'package:tm':\n",
      "\n",
      "    readTagged\n",
      "\n",
      "\n"
     ]
    }
   ],
   "source": [
    "# install.packages(\"textstem\")\n",
    "# remotes::install_github(\"kiernann/srt\")\n",
    "library(srt)\n",
    "library(tm)\n",
    "library(tidyverse)\n",
    "library(textstem)\n",
    "library(tidytext)"
   ]
  },
  {
   "cell_type": "code",
   "execution_count": 2,
   "metadata": {
    "vscode": {
     "languageId": "r"
    }
   },
   "outputs": [
    {
     "data": {
      "text/html": [
       "<style>\n",
       ".list-inline {list-style: none; margin:0; padding: 0}\n",
       ".list-inline>li {display: inline-block}\n",
       ".list-inline>li:not(:last-child)::after {content: \"\\00b7\"; padding: 0 .5ex}\n",
       "</style>\n",
       "<ol class=list-inline><li>'Gilmore Girls - 1x01 - Pilot.en.srt'</li><li>'Gilmore Girls - 1x02 - The Lorelais\\' First Day at Chilton.en.srt'</li><li>'Gilmore Girls - 1x03 - Kill Me Now.en.srt'</li><li>'Gilmore Girls - 1x04 - The Deer Hunters.en.srt'</li><li>'Gilmore Girls - 1x05 - Cinnamon\\'s Wake.en.srt'</li><li>'Gilmore Girls - 1x06 - Rory\\'s Birthday Parties.en.srt'</li></ol>\n"
      ],
      "text/latex": [
       "\\begin{enumerate*}\n",
       "\\item 'Gilmore Girls - 1x01 - Pilot.en.srt'\n",
       "\\item 'Gilmore Girls - 1x02 - The Lorelais\\textbackslash{}' First Day at Chilton.en.srt'\n",
       "\\item 'Gilmore Girls - 1x03 - Kill Me Now.en.srt'\n",
       "\\item 'Gilmore Girls - 1x04 - The Deer Hunters.en.srt'\n",
       "\\item 'Gilmore Girls - 1x05 - Cinnamon\\textbackslash{}'s Wake.en.srt'\n",
       "\\item 'Gilmore Girls - 1x06 - Rory\\textbackslash{}'s Birthday Parties.en.srt'\n",
       "\\end{enumerate*}\n"
      ],
      "text/markdown": [
       "1. 'Gilmore Girls - 1x01 - Pilot.en.srt'\n",
       "2. 'Gilmore Girls - 1x02 - The Lorelais\\' First Day at Chilton.en.srt'\n",
       "3. 'Gilmore Girls - 1x03 - Kill Me Now.en.srt'\n",
       "4. 'Gilmore Girls - 1x04 - The Deer Hunters.en.srt'\n",
       "5. 'Gilmore Girls - 1x05 - Cinnamon\\'s Wake.en.srt'\n",
       "6. 'Gilmore Girls - 1x06 - Rory\\'s Birthday Parties.en.srt'\n",
       "\n",
       "\n"
      ],
      "text/plain": [
       "[1] \"Gilmore Girls - 1x01 - Pilot.en.srt\"                             \n",
       "[2] \"Gilmore Girls - 1x02 - The Lorelais' First Day at Chilton.en.srt\"\n",
       "[3] \"Gilmore Girls - 1x03 - Kill Me Now.en.srt\"                       \n",
       "[4] \"Gilmore Girls - 1x04 - The Deer Hunters.en.srt\"                  \n",
       "[5] \"Gilmore Girls - 1x05 - Cinnamon's Wake.en.srt\"                   \n",
       "[6] \"Gilmore Girls - 1x06 - Rory's Birthday Parties.en.srt\"           "
      ]
     },
     "metadata": {},
     "output_type": "display_data"
    }
   ],
   "source": [
    "filenames <- list.files(path=\"./GilmoreGirls\",\n",
    "    pattern=\"*.srt\")\n",
    "\n",
    "head(filenames)"
   ]
  },
  {
   "cell_type": "code",
   "execution_count": 3,
   "metadata": {
    "vscode": {
     "languageId": "r"
    }
   },
   "outputs": [],
   "source": [
    "prefix = paste(getwd(),\"/GilmoreGirls/\",sep=\"\")"
   ]
  },
  {
   "cell_type": "code",
   "execution_count": 19,
   "metadata": {
    "vscode": {
     "languageId": "r"
    }
   },
   "outputs": [
    {
     "data": {
      "text/html": [
       "<table class=\"dataframe\">\n",
       "<caption>A data.frame: 0 × 16</caption>\n",
       "<thead>\n",
       "\t<tr><th scope=col>n</th><th scope=col>Episode_Code</th><th scope=col>Title</th><th scope=col>Season</th><th scope=col>Episode</th><th scope=col>Total_Words</th><th scope=col>Total_Time</th><th scope=col>WPM_0th</th><th scope=col>WPM_25th</th><th scope=col>WPM_50th</th><th scope=col>WPM_75th</th><th scope=col>WPM_100th</th><th scope=col>WPM_Mean</th><th scope=col>WPM_Variance</th><th scope=col>Filename</th><th scope=col>Corpus</th></tr>\n",
       "\t<tr><th scope=col>&lt;lgl&gt;</th><th scope=col>&lt;lgl&gt;</th><th scope=col>&lt;lgl&gt;</th><th scope=col>&lt;lgl&gt;</th><th scope=col>&lt;lgl&gt;</th><th scope=col>&lt;lgl&gt;</th><th scope=col>&lt;lgl&gt;</th><th scope=col>&lt;lgl&gt;</th><th scope=col>&lt;lgl&gt;</th><th scope=col>&lt;lgl&gt;</th><th scope=col>&lt;lgl&gt;</th><th scope=col>&lt;lgl&gt;</th><th scope=col>&lt;lgl&gt;</th><th scope=col>&lt;lgl&gt;</th><th scope=col>&lt;lgl&gt;</th><th scope=col>&lt;lgl&gt;</th></tr>\n",
       "</thead>\n",
       "<tbody>\n",
       "</tbody>\n",
       "</table>\n"
      ],
      "text/latex": [
       "A data.frame: 0 × 16\n",
       "\\begin{tabular}{llllllllllllllll}\n",
       " n & Episode\\_Code & Title & Season & Episode & Total\\_Words & Total\\_Time & WPM\\_0th & WPM\\_25th & WPM\\_50th & WPM\\_75th & WPM\\_100th & WPM\\_Mean & WPM\\_Variance & Filename & Corpus\\\\\n",
       " <lgl> & <lgl> & <lgl> & <lgl> & <lgl> & <lgl> & <lgl> & <lgl> & <lgl> & <lgl> & <lgl> & <lgl> & <lgl> & <lgl> & <lgl> & <lgl>\\\\\n",
       "\\hline\n",
       "\\end{tabular}\n"
      ],
      "text/markdown": [
       "\n",
       "A data.frame: 0 × 16\n",
       "\n",
       "| n &lt;lgl&gt; | Episode_Code &lt;lgl&gt; | Title &lt;lgl&gt; | Season &lt;lgl&gt; | Episode &lt;lgl&gt; | Total_Words &lt;lgl&gt; | Total_Time &lt;lgl&gt; | WPM_0th &lt;lgl&gt; | WPM_25th &lt;lgl&gt; | WPM_50th &lt;lgl&gt; | WPM_75th &lt;lgl&gt; | WPM_100th &lt;lgl&gt; | WPM_Mean &lt;lgl&gt; | WPM_Variance &lt;lgl&gt; | Filename &lt;lgl&gt; | Corpus &lt;lgl&gt; |\n",
       "|---|---|---|---|---|---|---|---|---|---|---|---|---|---|---|---|\n",
       "\n"
      ],
      "text/plain": [
       "     n Episode_Code Title Season Episode Total_Words Total_Time WPM_0th\n",
       "     WPM_25th WPM_50th WPM_75th WPM_100th WPM_Mean WPM_Variance Filename Corpus"
      ]
     },
     "metadata": {},
     "output_type": "display_data"
    }
   ],
   "source": [
    "#Create Meta table\n",
    "meta = data.frame(matrix(ncol=16,nrow=0))\n",
    "colnames(meta) = c('n','Episode_Code','Title','Season','Episode','Total_Words','Total_Time',\n",
    "        'WPM_0th','WPM_25th','WPM_50th','WPM_75th','WPM_100th',\n",
    "        'WPM_Mean','WPM_Variance','Filename','Corpus')\n",
    "head(meta)"
   ]
  },
  {
   "cell_type": "code",
   "execution_count": 20,
   "metadata": {
    "vscode": {
     "languageId": "r"
    }
   },
   "outputs": [],
   "source": [
    "for (i in 1:2){#length(filenames)){\n",
    "\n",
    "    episodeCode = str_extract(filenames[i],\"[0-9]+.*?[0-9]+\")\n",
    "    title = str_extract(filenames[i],\"(?<=[0-9]\\\\s-\\\\s).*(?=\\\\.en)\")\n",
    "    season = str_extract(filenames[i],\"(?<=(\\\\s-\\\\s)).*?(?=x)\")\n",
    "    episode = str_extract(filenames[i],\"(?<=([0-9]x)).*?(?=\\\\s)\")\n",
    "\n",
    "    df = read_srt(paste(prefix,filenames[i],sep=\"\"))\n",
    "    df = df[-nrow(df),]\n",
    "\n",
    "    dropPunct <- (function (x) gsub('[[:punct:] ]+',' ',x))\n",
    "    dropNL <- (function(x) gsub(\"[\\n']\", \" \",x))\n",
    "    # countWords <- (function (x) x$cumWords)\n",
    "    dropStopWords <- (function (x) removeWords(x,stopwords('english')))\n",
    "\n",
    "    df = df %>% mutate(subtitle = lapply(subtitle,tolower)) %>%\n",
    "        mutate(cleanWords = lapply(subtitle,dropNL)) %>%\n",
    "        mutate(cleanWords = lapply(cleanWords,dropPunct)) %>%\n",
    "\n",
    "        mutate(deepCleanWords = lapply(cleanWords,removePunctuation)) %>%\n",
    "        mutate(deepCleanWords = lapply(deepCleanWords,removeWords,stopwords('english'))) %>%\n",
    "        mutate(deepCleanWords = lapply(deepCleanWords, textstem::lemmatize_strings)) %>%\n",
    "\n",
    "        # mutate(deepCleanWords = as.character(deepCleanWords)) %>%\n",
    "\n",
    "        mutate(end = end/60) %>%\n",
    "        mutate(cumWordCount = cumsum(sapply(cleanWords, function(x) length(unlist(strsplit(x, \" \")))))) %>%\n",
    "        mutate(WPM = cumWordCount/(end))\n",
    "\n",
    "    # write.csv(df,episode)\n",
    "\n",
    "    sum <- array(summary(df$WPM),c(1,6))\n",
    "\n",
    "    metaRow = data.frame(\n",
    "        i,episodeCode,title,season,episode,\n",
    "        as.integer(tail(df,1)$cumWordCount), tail(df,1)$end,\n",
    "        sum[1],sum[2],sum[3],sum[5],sum[6],sum[4],var(df$WPM),filenames[i],\n",
    "        paste(df$deepCleanWords,collapse = \" \")\n",
    "    )\n",
    "\n",
    "    colnames(metaRow) = c('n','Episode_Code','Title','Season','Episode','Total_Words','Total_Time',\n",
    "        'WPM_0th','WPM_25th','WPM_50th','WPM_75th','WPM_100th',\n",
    "        'WPM_Mean','WPM_Variance','Filename','Corpus')\n",
    "\n",
    "    meta = rbind(meta,metaRow)\n",
    "    \n",
    "    #wascommented\n",
    "    # print(corpus)\n",
    "    # # noPunct <- tm_map(corpus,removePunctuation)\n",
    "    # # noStopWords <- tm_map(noPunct,removeWords,stopwords('english'))\n",
    "    # # lemmatize <- tm_map(noStopWords,lemmatize_strings)\n",
    "\n",
    "}"
   ]
  },
  {
   "cell_type": "code",
   "execution_count": 21,
   "metadata": {
    "vscode": {
     "languageId": "r"
    }
   },
   "outputs": [
    {
     "name": "stdout",
     "output_type": "stream",
     "text": [
      "  n Episode_Code                              Title Season Episode Total_Words\n",
      "1 1         1x01                              Pilot      1      01        5651\n",
      "2 2         1x02 The Lorelais' First Day at Chilton      1      02        6156\n",
      "  Total_Time   WPM_0th WPM_25th WPM_50th WPM_75th WPM_100th WPM_Mean\n",
      "1   43.29222  2.235594 120.2961 124.7192 127.6549  131.8994 119.1863\n",
      "2   42.25917 52.349369 125.5234 137.7252 143.9139  147.2690 131.1509\n",
      "  WPM_Variance                                                         Filename\n",
      "1     315.8067                              Gilmore Girls - 1x01 - Pilot.en.srt\n",
      "2     320.7577 Gilmore Girls - 1x02 - The Lorelais' First Day at Chilton.en.srt\n",
      "                                                                                                                                                                                                                                                                                                                                                                                                                                                                                                                                                                                                                                                                                                                                                                                                                                                                                                                                                                                                                                                                                                                                                                                                                                                                                                                                                                                                                                                                                                                                                                                                                                                                                                                                                                                                                                                                                                                                                                                                                                                                                                                                                                                                                                                                                                                                                                                                                                                                                                                                                                                                                                                                                                                                                                                                                                                                                                                                                                                                                                                                                                                                                                                                                                                                                                                                                                                                                                                                                                                                                                                                                                                                                                                                                                                                                                                                                                                                                                                                                                                                                                                                                                                                                                                                                                                                                                                                                                                                                                                                                                                                                                                                                                                                                                                                                                                                                                                                                                                                                                                                                                                                                                                                                                                                                                                                                                                                                                                                                                                                                                                                                                                                                                                                                                                                                                                                                                                                                                                                                                                                                                                                                                                                                                                                                                                                                                                                                                                                                                                                                                                                                                                                                                                                                                                                                                                                                                                                                                                                                                                                                                                                                                                                                                                                                                                                                                                                                                                                                                                                                                                                                                                                                                                                                                                                                                                                                                                                                                                                                                                                                                                                                                                                                                                                                                                                                                                                                                                                                                                                                                                                                                                                                                                                                                                                                                                                                                                                                                                                                                                                                                                                                                                                                                                                                                                                                                                                                                                                                                                                                                                                                                                                                                                                                                                                                                                                                                                                                                                                                                                                                                                                                                                                                                                                                                                                                                                                                                                                                                                                                                                                                                                                                                                                                                                                                                                                                                                                                                                                                                                                                                                                                                                                                                                                                                                                                                                                                                                                                                                                                                                                                                                                                                                                                                                                                                                                                                                                                                                                                                                                                                                                                                                                                                                                                                                                                                                                                                                                                                                                                                                                                                                                                                                                                                                                                                                                                                                                                                                                                                                                                                                                                                                                                                                                                                                                                                                                                                                                                                                                                                                                                                                                                                                                                                                                                                                                                                                                                                                                                                                                                                                                                                                                                                                                                                                                                                                                                                                                                                                                                                                                                                                                                                                                                                                                                                                                                                                                                                                                                                                                                                                                                                                                                                                                                                                                                                                                                                                                                                                                                                                                                                                                                                                                                                                                                                                                                                                                                                                                                                                                                                                                                                                                                                                                                                                                                                                                                                                                                                                                                                                                                                                                                                                                                                                                                                                                                                                                                                                                                                                                                                                                                                                                                                                                                                                                                                                                                                                                                                                                                                                                                                                                                                                                                                                                                                 Corpus\n",
      "1                                                                                                                                                                                                                                                                                                                                                                                                                                                                                                                                                                                                                                                                                                                                                                                                                                                                                                                                                                                                                                                                                                                                                                                                                                                                                                                                                                                                                                                                   please luke many cup morning none plus five good problem yes junkie angel have get wing baby luke s yes make look really good really good s good coffee town yes will get cup good plan have never just pass way hartford re regular jack kerouac mind sit actually be meet someone be joey okay don t name name just really meet someone guess get go soon be just screw mind s nice meet enjoy hartford enjoy coffee mystery woman like hey s freeze need hot tea coffee lip gloss vanilla chocolate strawberry toast marshmallow anything resemble breakfast cereal yes smell change color mood rupaul doesn t need much makeup re crabby be sorry lose macy gray cd need caffeine cd thief sorry will get coffee s s rory swear re shameless look officer krupke s right table right s get quite pair guy thank have never hello really like table don t just get know daughter new daddy don t look old enough daughter mean don t look like daughter s possibly sweet thank daughter know travel friend s 16 bye drive safe go thank independence inn michel speak be sorry re completely book wed party really nothing can yes be sure positive don t look ma yes course will look be sorry re completely book don t move just ignore tiny woman push 200 pound instrument around good like maybe will bench press piano s lady tie shoe now don t worry will wait hello drella hello just wonder nice guest be sorry want harp player yes want great harp player yes great harp player great harp okay just want someone nice guest get harmonica player guy whistle nose okay capisce great spot table decorator s genius madame idea desperately have like help have build room be man work hand good can suggest please try another weekend weekend good fine 21st hold will look be sorry re completely book plumber attend room 4 yet nothing s 100 hello marco lorelai talk room 4 wrong think replace already tell never forget anything one s right pleasure business offspring need stamp can take s muumuu stop couldn t find one make metal case anyone x ray eye now say goodbye michel look french paper go excuse great come michel will tell lady stud believe memo already send please michel pretty please sucre top will stop talk like leave will look get chance s due tomorrow pay special attention grammar despise gonna let parent know listen evil rock music re american teenager god s sake parent still get upset obscene portion size american food seriously doubt be go make inroad eminem go hayride re kid parent set son business associate s gonna doctor old sixteen s gonna doctor 100 year parent like plan ahead go hayride old brother now re kid korean never joke future doctor guess re go be still fuzzy s fun sit cold two hour bundle stick butt don t expect clear finish final chapter huckleberry finn may use time can start essay now whichever task choose silently maybe s love letter diary slam book s assignment nice huh s beautiful tell tip jar take bag 314 make sure drape close s extra soap want pillow mint now sookie be okay now weren t watch estabas cuidandola s bad food head need careful know be sorry fix peach sauce s blood bleed stitch open use much maple syrup strangle fruit get stitch friday night radish rose okay stop move gotta taste sauce s still warm sookie need careful need few accident dear god almighty s incredible will put waffle tomorrow morning breakfast wanna take bath sauce will make someday open inn diabetic will line eat sauce win t great key someday achieve dream stay alive long enough can actually open inn understand yes understand right now let s get doctor three one two three  step thumb be fine three okay good color less sparkle smell like bubble gum dry s way mark twain compete mom re home hear something be sure mom re open everything s half contact mom lane mom lane back  think s way close be table s kid right look will meet kitchen kitchen s s rory mom hear disappointment come stop suck year mom still hate doesn t hate hate mother doesn t trust unmarried woman re unmarried be hayriding future proctologist potential go upstairs tea ready muffin dairy sugar wheat soak tea make soft enough bite re healthy school none girl get pregnant drop know though come think joanna posner glow little nothing mama s just kid boy don t like funny girl note hello anybody re re come muffin make sprout wheat good 24 hour everything s half  chair chair careful be okay pepper mike hello little vegetable come get s glaze counter counter counter okay good right sauce s pretty good hello little bite green okay hello little baby like little bite juice re pretty okay s happen be gonna need long sentence chilton school rory get oh god know look happy inform vacancy chilton preparatory start immediately due rory s excellent credential enthusiastic pursuit enrolment offer principal get have happy accept first semester s tuition receive excite something burn bang early go can finally go harvard like s always want get education never get thing never get can resend can finally normal mother daughter relationship mom re happy yes something slutty be happy  s go open be gonna britney spear video re go chilton sorry mom babe get happen didn t principal joke open spot re gonna start monday really really don t believe god be go chilton sookie be go chilton will make cookie protestant love oatmeal call lane love love girl s go chilton yes know rory s go chilton michel phone ring can answer people particularly stupid today can t talk know s really nice talk people unemployment agency independence inn michel speak be sorry re completely book be hold miss bell have try get ahold day lorelai gilmore hello yes daughter rory just accept thank get invoice enrolment fee lot zero behind five okay guess be wonder couldn t take say part now just get go s suppose start monday just doesn t give lot time pull bank job never mind just kid bank job rob bank don t want give space will figure okay thank s real treat talk yes bye bye  can anything car sell car sweetie one want car s something haven t think s something stare right face haven t see may consider call don t think stop can less go okay can say one thing think s option several chapter stephen king novel have reenact have resort option okay drop thank mom think make look smart okay wine mom look like swallow kilt fine hem little little okay hem lot don t want short can t believe tomorrow s last day star hollow high know today excite dress gym re kid play volleyball people learn time avoid group sport smart suck get s pate zsa zsa gabor s house be go store nothing feel like duck lf s make chicken absolutely will back bye right will give idea go see like okay love private school girl hello mom lorelai goodness surprise easter already just finish business class think stop see yes isn t nice come thank place look great hasn t change go girl bridge club old good say take business class yes be take business class college twice week be sure tell re sure must like tea love coffee emily be home re hello dad christmas already lorelai take business class college today decide drop see us business class tell us dear remember actually come reason dad mind sit minute need money situation need money dad just please let get okay rory accept chilton chilton s wonderful school s five minute s right can start early monday problem want put enrolment fee plus first semester s tuition immediately lose spot need money yes s s rory intend pay back every cent don t ask favor know yes know will get checkbook thank idea thank one condition close since now financially involve life want actively involve life mean mother want weekly dinner friday night rory will dinner mom call us week give us update school life s s condition agree will come dinner tomorrow night leave check otherwise be sorry can t help don t want know borrow money can just us 7 00 work perfect get wear uniform people check see re wear cause everyone s dress alike bore clothe just learn okay s academic mind s amish funny thank tell mom re change school thrill party s friday get go pre hayride cup tea future doctor look korean spit image good bye bye god re like ruth gordon just stand tannis root make noise rosemary s baby yes s great movie have get good taste move just book family just move chicago chicago windy oprah yes s place be dean hello rory s lorelai technically lorelai like s mother s name name hospital think man name boy couldn t woman say feminism take personally think lot demerol also go decision never talk much good go sure go look job okay good check miss patty job check miss patty teach dance actually broadway don t really dance much just know everything s go town will know someone s look great thank now nothing much throw away point maybe show miss patty s place yes guess really don t anything important let s go live life yes pretty much actually bear hartford s far thirty minute traffic really time okay like cake make really good cake re round okay will remember good make note wouldn t want forget round cake like moby dick s really good yes yes s first melville cool know s cliche pick moby dick first melville know read moby dick have watch watch creepy be watch sort way have notice yes  every day school come sit tree read last week madame bovary week s moby dick re nice look have get unbelievable concentration  last friday two guy toss ball one guy nail right face mess blood everywhere nurse come place chaos girlfriend freak just sit read never even look think have never see anyone read intensely entire life meet girl maybe just didn t look be unbelievably self center maybe doubt ask like cake yes cause really good cake back late get home tonight yes go library re dinner grandparent tomorrow night s september holiday september look s holiday thing s just dinner okay fine sorry red meat can kill enjoy finish hem skirt today grunt acknowledgement may nice go dinner tomorrow night plan didn t even ask lf plan have know have tell don t tell everything thing fine thing s right thing dibs bitch tonight just tonight hell wrong be sure want go chilton time just really bad time bad bus ride hartford s 30 minute way can t believe be hear don t think spend money right now know chilton s get cost lot have idea money go buy inn sookie college harvard don t know can t get harvard stay enough crazy talk okay appreciate concern cover still don t want go don t get pay first one two three s waltz lady susie tinkle uncross leg darling rory think find job male friend male friend need stock boy supermarket already talk taylor doose just send around tomorrow okay thank male friend s cute good taste hand air nose will walk fast will turn frig flo jo get away boy course can t believe didn t see talk money bus ride have get guy don t wanna leave school be go bed god be dense have first think re be really someone ready throw important life experience guy sound like whatever s guy dark hair romantic eye look little dangerous conversation s tattoo good don t wanna change school reason have already tell thousand time don t want believe s fine goodnight motorcycle re go throw life away have good motorcycle think go pretty good don t thank knock listen can just start okay tell guy promise let head explode rory please talk okay will talk don t get wrong guy great huge fan guy don t get knock 16 indifferent guy babe guy always gonna school isn t s important important be go sleep have always sensible one house need remember feel now will kick butt late blow s butt good comeback thank re welcome rory come don t want talk please just leave alone okay fine have always democracy house never anything unless agree now guess be gonna play mom card go chilton whether want monday morning will end story will see yes will okay one two swear don t know happen s important have make dish hundred time never explode please forget god kill viking fire make pay cost new stave paycheck whatever want can t afford new stave thing expensive sookie please beg pull together get sleep last night think put contact backwards rory s still mad be crazy either fight mother daughter fight don t fight never fight tell tell daughter arrive s s sit chair hold just minute one leave stand life funny thing muumuu today know s weird kind miss leave note meet think may want work couple hour make little extra cash fine re gonna give mommie dear treatment forever want be something yes go home dinner s 7 00 ready go fine fine chair go just stand reenact little match girl look know re thing know hate civil less dinner way home can pull menendez deal fine hello grandma re right time yes traffic can t tell treat girl re excite collector s cup can throw away kitchen please sorry want hear chilton haven t actually start yet richard look s rory re tall guess s height 5 7 s tall s tall hello dad lorelai daughter s tall know s freakish re think study mit champagne anyone s fancy s every day girl dinner day bank open toast rory enter chilton excite new phase life hear hear let s sit everyone just wonderful education important thing world next family pie joke rory like lamb s good spin-dry s perfect potato use little salt though excuse grandpa s insurance biz people die pay people crash car pay people lose foot pay less new slogan thing motel inn re great lorelai s executive manager now isn t wonderful speak christopher call yesterday speak speak s good california internet start go public next month mean big thing talented man father know always smart one boy must take speak be go get coke knife hello think be go go talk will go stay keep grandfather company lorelai come back table go like every friday night come let two attack re dramatic dramatic table just now yes take father say wrong way wrong way take wrong way open interpretation keep voice mother can t take anymore tonight like nightmare re drip floor pounce every single thing say s absurd have barely utter word night s true say pie come hear say pie bring christopher really necessary like christopher isn t interest remember christopher get pregnant dad didn t like much 16 suppose throw party disappoint two bright future yes get marry get keep bright future get pregnant get marry child need mother father think christopher company now marry think have anything yes father have put insurance business have live lovely life right now didn t want insurance business live lovely life right now s right far away us go take girl completely shut us life want control still child stop child minute strip turn pink okay figure live find good job maid brain talent work way run place now build life help anyone yes think have have accept little help rory always proud accept anything anyone wasn t proud come two beg money kid s school certainly weren t re proud let know get aren t fine precious pride weekly dinner isn t nice win mom be okay just look short feel short buy cup coffee drive though cause don t think foot will reach pedal nice dinner grandparent house yes dish never clean grandma seem nice talk much hear much snippet little snippet basically everything basically yes good lay plan think really brave ask money want talk many meal gonna take till re hook think deli spread funeral will last one wait mean can t let perfectly good plaid skirt go waste honey win t sorry look nice really nice meet early bank like collar look nice flagellation go will coffee vat will coffee also chili fry s quite refine palate get behold heal power bath tell guy know s really special relationship total understand need one s privacy really understand boundary tell guy mom dreamy s nick nite be gonna find anyway really will spy coffee fry can t stand unhealthy rory please put cup coffee want grow like mom sorry late tell guy check please embarrass bring home be embarrass talk mom s mime\n",
      "2 s nice thank don t move please insist re start private school tomorrow yes be gonna wear shoe nobody s gonna see foot okay everybody know private school girl bad bad girl always wear red nail polish nervous start chilton wasn t hear bad girl guy new cd xtc apple venus volume 2 good finish half toe care re gonna wear shoe anyway mom god hello heart attack think s 7 10 s 7 10  stop s 5 45 s yes set clock 5 45 s s 7 10 can t late first day school know happen people late first day s short rest year re label late girl dramatic s bathroom go s traffic plan gonna get early gonna get coffee gonna take shower gonna pick clothe spin-dry clean s oh god clothe don t clean clothe s 7 15 nice thing dirty s 7 16 gonna wear blue suit flippy skirt look great flippy skirt s 7 17 know time lady go downstairs warm car really super thank just hurry suck s 7 18 love god last time buy anything just s furry s 7 don t even think finish sentence  nothing just didn t know rodeo town s be bring baby picture be sorry love rodeo rodeo rule remember small yes little head yes look be just try see s hunchback bell tower look look great really really amaze kid earn just go show smart really love call need re kid right call need anything be great make dirty cheer go rory come meet headmaster look can t meet anybody anything look like chick duke hazzard first day get go period good morning re gonna good friend go ambroise build big scary one great thank input lose yes re look headmaster s office ambroise build okay right just go inside stair make leave headmaster s office end hall great thank re welcome be lan jack daughter julia go school hello be lorelai gilmore daughter rory daughter really yep wow s great mean daughter great thing re big fan yes husband have love meet be marry have love meet wife be divorce shame excuse really get right gotta go meet big guy gotta get back work work inn independence inn run really different outfit course nice meet lorelai good luck school rory will tell julia look great thank see nice man re feel pretty good right now aren t yes want get mirror be back let s go good big stuff ready ready yes excuse hello be lorelai gilmore daughter lorelai gilmore name hospital whack demerol never mind call rory s short lorelai will answer either one even hey depend headmaster one moment see s happen go bed makeup headmaster charleston will see now great thank ms gilmore be headmaster charleston hello wow s really nice meet mom  come wish granddaughter luck first day school rory look wonderful uniform didn t come way mom give chance make sure hanlin take good care rory re hanlin hanlin charleston hanlin s wife symphony fundraising committee together wow s great father golf rival re still fight see one bad oh yes re old friend good s nothing like friend especially re old one like take coat seat be fine little overzealous furnace morning s quite warm like warm take coat sit don t want hanlin think re rude laundry day hanlin know rory 4 0 grade average be sure mom special girl take good care will good emily oh god rory s go problem s totally low maintenance know like honda know re just easy nice office don t think take precious time hanlin lovely see give bitty love tell richard will see club sunday wonderful day rory want hear need ride horse park outside s nice meet great day don t want forget coat cause embarrass leave house look like plan believe rory s first day school kind impression think have make  tell come put good word rory didn t need good word be allow didn t say be allow pay can t set foot premise want get rule straight oh boy drive street forget maybe avoid neighborhood altogether though doctor block maybe will get special permission be bleed head be sorry just surprise see think important school know gilmore good think gilmores actually clothe note get work will see late dinner friday night spur please re obviously bright girl miss gilmore thank good grade teacher like lot social activity though just live star hollow social activity actually nothing school appeal work mother s inn school sometimes german club three us two leave french club see schindler s list aspiration want go harvard study journalism political science way christiane amanpour really yes cokie roberts oprah rosie one woman view  wish christiane amanpour don t wish exactly just want travel see world close report s really go part something big part something big tv lead police high speed chase s quick way achieve goal tv nothing maybe will journalist write book article see just want sure see something will notice debate team s also miss resume have know grandparent quite time know fact party house just last week delicious lobster puff have ever eat be fond s nice none however will benefit chilton one high academic standard school america may smart girl star hollow different place pressure great rule strict expectation high make will receive one fine education one can get reason achieve goal however since start late use highly competitive atmosphere good chance will fail fine failure part life part chilton understand like lobster puff take miss james administration office across hall hello be look miss james name lorelai gilmore go rory fill please good shut hurry please spider lorelai gilmore nice stripper name formerly star hollow high school s drive west make leave haystack follow cow dixie chick perfect attendance 4 0 grade point average bug dirt twig s journalism major mean s go school paper necessarily s get thousand recommendation popular adult go school paper will stop don t know something s bite quiet hate nature will never catch s month behind can tutor like big sister re funny okay lizard goodbye let extra people just take space screw curve don t need new kid late s dine room science hall theater s locker numb s schedule take map s rule school chilton honor code word school song must recite upon demand can happen place time latin get extra credit question moment lf make appointment see guidance counselor mr winter handle everything bulimia pregnancy go nurse coach rubens welcome chilton already long day life s 10 00 nice s coffee s funny can give herbal tea herbal tea morning coffee morning every morning coffee morning jumbo coffee morning need coffee v can give tea balance bar please please tell re kid be kid re sick yep re sadist re fiend re pretty go go please want know nervous system chart love chart forget kill happen morning awful rory start chilton really yes  s dress go chilton s fancy school clothe cleaner fuzzy clock didn t purr time didn t purr s fuzzy purr know never mind gotta go plan damn next time re get tea visualize lady s thanksgiving day parade re stand 5 avenue s 100 beautiful boy march place behind  front fabulous leg perfect tush baton fire crowd go nut okay cookie time lorelai hello hey patty isn t today rory s first day chilton yes s now just get drop wear look time see patty bye lady see naked girl keep leotard brazil hello lorelai mom lorelai good be go shop afternoon think have pick thing rory like couple skirt top school already take care mom get two skirt bunch top five day school week really day week underwear go thursday joke mom two skirt fine never know really don t bother get one dirty will wear one get dirty will use newfangled thing call wash machine town chip buy one turn s tuesday sock chilton special logo sock rory mom please school sweater may like s sweater vest book bag get cut merchandise rory will one doesn t will live be less get chilton coat size 6 mom please simple question lorelai s 6 have get 8 case grow grow will buy another okay 6 great gotta go mom bye french culture dominant outside cultural influence especially russia s moneyed class english culture also impact tolstoy s favorite author instance dickens yes course last week cover dostoyevsky s main authorial influence george sand balzac good tolstoy commence write war peace anna karenina count leo turn david copperfield correct turn david copperfield inspiration mr dugray sir nice back hope grandfather s good much good sir good take seat please great expectation tale two city little dorrit major influence leo tolstoy tomorrow s new girl write style two literary master tolstoy dickens class dismiss look like get mary miss gilmore come please last week s study material will test tomorrow since re new can take makeup monday will sufficient time monday sure s fine good s just overview have helpful borrow another student s personal note tend detail detail seem daunt right now know s okay will fine remember get note will lifesaver be paris didn t see have come know lorelai gilmore star hollow can call rory go franklin nice innocent act less know re go drama club be confuse franklin school paper go don t know find locker first be gonna editor next year good be also top class intend valedictorian graduate okay be go now will never catch will never beat school domain franklin domain don t ever forget guess re go let borrow note re small last batch re small mean watery good peach taste s plenty peach taste re know peach one bottom great sure check s give every last one nice good squeeze wouldn t want leave one sell somebody else wait minute miss one win t tell one be just go let impeccably good radar get okay look great right yes yes see suppose look morning morning jackson oh god today rory s first day yes suppose look together fabulous like play quarter night nobody care look everybody care mom headmaster mom luke miss patty new fire chief tiny little head taste little watery now plan say something mom yes walk headmaster s office really know have wake late dress like cowgirl humiliate wow s good s good love know re re roll differently extra water exactly make perfect sense ignore woman thing matter rory get great school know look amaze uniform excite just admire much jump new school s hero mine yes sign sookie peach please excuse s phone call be fetch like dog have like cookie raise thank peach will absolutely wonderful suppose darling shop street excuse sir can tell can find good antique house have guess mom give numb cause don t remember yes good must lose mind can be sorry mom can hold one 2 drella take just notch thank okay be back want know just buy park space rory chilton hard come pull string s mom rory doesn t car s get birthday come soon okay hold 2 drella please little soft look like get panasonic stamp ass mom buy rory car s smart girl s responsible doesn t need one need way get around get school will take bus know hate take bus drug dealer take bus know mom gotta go fine will discuss late date okay bye mary yes name rory be tristan hello new yes first day remmy s class rough yes seem intense loan note help really have great yes great don t know mr remmy say get someone s note even help study want kind view study solitary activity thank bye mary s rory completely understand brand new car swear bring car s scratch just back car have know car scratch park let s calm sir don t car look tomorrow be sure can find way resolve meantime love lunch dessert must anything homemade ice cream absolutely delicious promise life know will never say think will thank thank lorelai swear didn t scratch car derek mean think unreliable bad driver s okay cause can drive oh sweetie sure can will take musky s tomorrow guy look be sure can buff nothing okay okay s real nice outfit re wear today thank derek faithful pooch say please come desk someone need talk s mother s possible s possible s resemblance hello hello bad time  meet associate lunch come new york think meet beautiful inn good enjoy lunch thank will okay also wonder maybe take dinner sometime re little food obsess aren t s company food interest be flatter yes s re dad re mom although be still find really hard believe mean re chilton dad sound bad bad just tricky know rory just start let fall bad crowd start hook pta be pta see go can t date anyone pta s just casual dinner sorry okay will tell be go china week business get back be go try china wow impress rome have impress china be just china wow lorelai gilmore general manager will talk soon safe trip will good make sick now honey try will watch walk away stop go now walk can t bad leave alone little attitude make think mean s lunch be sorry re go open oh sorry paris please be sorry accident locker just slip pull hard didn t mean water moat get away excuse need ms ness history s behind course have get kid seat now please hey mary okay leave project friday mr gaynor today will pick miss geller don t project miss geller sufficient time complete project yes yet don t do right will receive incomplete project s fault rory gilmore wreck project shut don t rory gilmore lorelai gilmore s rory lorelai gilmore yes wreck project locker get stick just stay go rory lorelai whatever s fault need pick one one one name rory fine thank wreck paris project just class convenient locker get stick open stop miss gilmore since say wreck project may help fix tomorrow fine don t want help don t mind stay s wrong be try help don t lady enough don t want miss gilmore s help may tomorrow s do will receive incomplete understand yes long re stand class new student say hello rory gilmore hello mary now walk smooth s new harry potter head drop harry will die win t book now s have dress morning missy  see now s vote mr personality new millennium s crown just mean don t usually come time pick rory school thank re welcome lecture blood sugar s low will eat apple get back god one hectic bizarre day yes morning late mom exist father chilton drive inn way hartford just ask really go s get kid school rory whole thing seem little weird good good yes think s good turn okay mean s probably old right old yes mean kid high school good young rory people aren t young people old yes like guy ask re go be go oh s hello hello babbette okay will right thank go keep give decaf lorelai be sorry call like s okay babbette appreciate sudden pull get truck start sniff around s strange right let talk tell gnome kick gnome right head s just cool be sorry gnome okay s fine sugar thank ask wouldn t trust boy gnome kick say lot man s character yes be gonna go take care thank  live yes be suppose install dsl lorelai gilmore yes s be mick nice meet get porch tell look ceramic frog key don t understand can t find frog didn t order dsl order place emily gilmore  have do frog search put us way behind look find find frog turtle frog say s frog s turtle really trust listen be afraid be gonna cancel dsl order sure s already pay yes know don t need dsl thank come guy can just go problem nothing shakespeare couldn t turn really good play let s try another passage romanists great adroitness draw three wall round hitherto protect one reform whereby christendom fall terribly say martin luther good miss gilmore year martin luther address christian nobility 1520 good miss gilmore next time class stay way will make school live hell see tomorrow mary name rory can help god wish earth re buy us dsl lorelai hardly place cancel order s happen rory need internet school internet fast like internet slow okay can turn walk around little dance make sandwich dsl s dance walk have starve have work play haven t see shine earth talk also will car park space uniform will supply mother s final will discussion re stubborn usual be stubborn usual be person always need work problem take care s way bear s florence be drip appreciate do rory pay school will forget win t let daughter decide live now validate park s stamp desk thank hey whole plaid skirt thing idea day suck promise swear mother s life yet still hug bring us coffee be shock triple cap easy foam doesn t work will stick finger light socket come wow expect get smart one day expect lot thing tell don t know just one big long scary tweedy bad eight hour add hair spray have get day one girl already hate guy weird weird guy yes keep call mary re kid wow can t believe still say mean mary like virgin mary mean think look like goody goody re kid call think look like slut may add magdalene biblical insult advance school weird school today mean finally notice kid let just say sad lot yes add couple plaid skirt have get chilton freak totally miss miss guy idea tuesday thursday go hartford business class lane come along guy can shop study join cult shave head really except shave head part oh time 6 30 be late dinner lane mother gonna kill keep send home feed happy be sorry find website sell tofu bulk re kid right yesterday go buy big fridge boy honey life scary can crust s less can thank bye pizza thought wish figure way get paris back yes angry chick bad high school paris yes yes horrible have get rid get pregnant drop learn french braid hair even good sweetie can t let kid get know want talk anybody parent teacher big guy name moose will just figure okay  think way paris face look beat martin luther question good fourteen shade purple cool tomorrow be shoot 15 think luke mean mean think s cute way way date luke say nothing date luke date will break will never able eat repeat say nothing date luke date al pancake world food stink believe be hear al s food stink al stink\n"
     ]
    }
   ],
   "source": [
    "print(meta)"
   ]
  },
  {
   "cell_type": "code",
   "execution_count": null,
   "metadata": {
    "vscode": {
     "languageId": "r"
    }
   },
   "outputs": [],
   "source": [
    "meta['WPM_Total'] = (meta$Total_Words/meta$Total_Time)\n",
    "head(meta)\n",
    "# tail(meta)\n",
    "unique(meta$Season)"
   ]
  },
  {
   "cell_type": "code",
   "execution_count": null,
   "metadata": {
    "vscode": {
     "languageId": "r"
    }
   },
   "outputs": [],
   "source": [
    "ggplot(data = meta, aes(x = n, y = WPM_Total, color = Season)) + \n",
    "  geom_point() +\n",
    "  xlab(\"Episode Number\") +\n",
    "  ylab(\"Words Per Minute\") +\n",
    "  ggtitle(\"Gilmore Girls Episodes WPM vs Episode Count\")\n",
    "\n",
    "ggplot(data = meta, aes(x = n, y = WPM_Mean, color = Season)) + \n",
    "  geom_point() +\n",
    "  xlab(\"Episode Number\") +\n",
    "  ylab(\"Words Per Minute\") +\n",
    "  ggtitle(\"Gilmore Girls Episodes AVERAGE WPM vs Episode Count\")\n",
    "\n",
    "ggplot(data = meta, aes(x = n, y = WPM_50th, color = Season)) + \n",
    "  geom_point() +\n",
    "  xlab(\"Episode Number\") +\n",
    "  ylab(\"Words Per Minute\") +\n",
    "  ggtitle(\"Gilmore Girls Episodes AVERAGE WPM vs Episode Count\")"
   ]
  },
  {
   "cell_type": "code",
   "execution_count": null,
   "metadata": {
    "vscode": {
     "languageId": "r"
    }
   },
   "outputs": [],
   "source": [
    "#Corpus Building \n",
    "corpus <- Corpus(VectorSource(c(\"\")))\n",
    "dtm <- DocumentTermMatrix(corpus)\n",
    "dtm"
   ]
  },
  {
   "cell_type": "code",
   "execution_count": null,
   "metadata": {
    "vscode": {
     "languageId": "r"
    }
   },
   "outputs": [],
   "source": [
    "seasons = unique(meta$Season)\n",
    "metaBySeason = vector(\"list\",length(seasons))\n",
    "\n",
    "for (i in 1:length(seasons)){\n",
    "    metaBySeason[[i]] = select(subset(meta, Season == seasons[i]), n,Episode_Code,Title,Season,Episode,Filename)\n",
    "}\n",
    "\n",
    "# head(metaBySeason,3)\n",
    "\n",
    "# for Each Season\n",
    "for (season in 1:length(seasons)){\n",
    "    for (episode in 1:length(metaBySeason[[season]])){\n",
    "        x = filter(meta,Season==season,Episode==1)\n",
    "        print(x$subtitle)\n",
    "    }\n",
    "}"
   ]
  },
  {
   "cell_type": "code",
   "execution_count": null,
   "metadata": {
    "vscode": {
     "languageId": "r"
    }
   },
   "outputs": [],
   "source": []
  }
 ],
 "metadata": {
  "kernelspec": {
   "display_name": "R",
   "language": "R",
   "name": "ir"
  },
  "language_info": {
   "codemirror_mode": "r",
   "file_extension": ".r",
   "mimetype": "text/x-r-source",
   "name": "R",
   "pygments_lexer": "r",
   "version": "4.2.2"
  },
  "orig_nbformat": 4
 },
 "nbformat": 4,
 "nbformat_minor": 2
}
