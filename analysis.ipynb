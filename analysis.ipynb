{
 "cells": [
  {
   "cell_type": "markdown",
   "metadata": {},
   "source": [
    "Library Imports"
   ]
  },
  {
   "cell_type": "markdown",
   "metadata": {},
   "source": [
    "Goal: Create a data pipeline for studying the subtitles of TV shows."
   ]
  },
  {
   "cell_type": "code",
   "execution_count": 18,
   "metadata": {
    "vscode": {
     "languageId": "r"
    }
   },
   "outputs": [],
   "source": [
    "suppressPackageStartupMessages(library(srt))\n",
    "suppressPackageStartupMessages(library(tm))\n",
    "suppressPackageStartupMessages(library(tidyverse))\n",
    "suppressPackageStartupMessages(library(textstem))\n",
    "suppressPackageStartupMessages(library(tidytext))\n",
    "suppressPackageStartupMessages(library(zoo))\n",
    "suppressPackageStartupMessages(library(dplyr))"
   ]
  },
  {
   "cell_type": "markdown",
   "metadata": {},
   "source": [
    "Get the names of our files for reading."
   ]
  },
  {
   "cell_type": "code",
   "execution_count": 19,
   "metadata": {
    "vscode": {
     "languageId": "r"
    }
   },
   "outputs": [
    {
     "name": "stdout",
     "output_type": "stream",
     "text": [
      "[1] \"./TelevisionSubs/GilmoreGirls\"\n"
     ]
    },
    {
     "data": {
      "text/html": [
       "<style>\n",
       ".list-inline {list-style: none; margin:0; padding: 0}\n",
       ".list-inline>li {display: inline-block}\n",
       ".list-inline>li:not(:last-child)::after {content: \"\\00b7\"; padding: 0 .5ex}\n",
       "</style>\n",
       "<ol class=list-inline><li>'Gilmore Girls - 1x01 - Pilot.en.srt'</li><li>'Gilmore Girls - 1x02 - The Lorelais\\' First Day at Chilton.en.srt'</li><li>'Gilmore Girls - 1x03 - Kill Me Now.en.srt'</li><li>'Gilmore Girls - 1x04 - The Deer Hunters.en.srt'</li><li>'Gilmore Girls - 1x05 - Cinnamon\\'s Wake.en.srt'</li><li>'Gilmore Girls - 1x06 - Rory\\'s Birthday Parties.en.srt'</li></ol>\n"
      ],
      "text/latex": [
       "\\begin{enumerate*}\n",
       "\\item 'Gilmore Girls - 1x01 - Pilot.en.srt'\n",
       "\\item 'Gilmore Girls - 1x02 - The Lorelais\\textbackslash{}' First Day at Chilton.en.srt'\n",
       "\\item 'Gilmore Girls - 1x03 - Kill Me Now.en.srt'\n",
       "\\item 'Gilmore Girls - 1x04 - The Deer Hunters.en.srt'\n",
       "\\item 'Gilmore Girls - 1x05 - Cinnamon\\textbackslash{}'s Wake.en.srt'\n",
       "\\item 'Gilmore Girls - 1x06 - Rory\\textbackslash{}'s Birthday Parties.en.srt'\n",
       "\\end{enumerate*}\n"
      ],
      "text/markdown": [
       "1. 'Gilmore Girls - 1x01 - Pilot.en.srt'\n",
       "2. 'Gilmore Girls - 1x02 - The Lorelais\\' First Day at Chilton.en.srt'\n",
       "3. 'Gilmore Girls - 1x03 - Kill Me Now.en.srt'\n",
       "4. 'Gilmore Girls - 1x04 - The Deer Hunters.en.srt'\n",
       "5. 'Gilmore Girls - 1x05 - Cinnamon\\'s Wake.en.srt'\n",
       "6. 'Gilmore Girls - 1x06 - Rory\\'s Birthday Parties.en.srt'\n",
       "\n",
       "\n"
      ],
      "text/plain": [
       "[1] \"Gilmore Girls - 1x01 - Pilot.en.srt\"                             \n",
       "[2] \"Gilmore Girls - 1x02 - The Lorelais' First Day at Chilton.en.srt\"\n",
       "[3] \"Gilmore Girls - 1x03 - Kill Me Now.en.srt\"                       \n",
       "[4] \"Gilmore Girls - 1x04 - The Deer Hunters.en.srt\"                  \n",
       "[5] \"Gilmore Girls - 1x05 - Cinnamon's Wake.en.srt\"                   \n",
       "[6] \"Gilmore Girls - 1x06 - Rory's Birthday Parties.en.srt\"           "
      ]
     },
     "metadata": {},
     "output_type": "display_data"
    }
   ],
   "source": [
    "show = \"GilmoreGirls\"\n",
    "\n",
    "loc <- paste(\"./TelevisionSubs/\",show,sep = \"\")\n",
    "filenames <- list.files(path=loc,pattern=\"*.srt\")\n",
    "\n",
    "print(loc)\n",
    "head(filenames)"
   ]
  },
  {
   "cell_type": "markdown",
   "metadata": {},
   "source": [
    "Create Meta-table to aggregate data from all the episodes "
   ]
  },
  {
   "cell_type": "code",
   "execution_count": 20,
   "metadata": {
    "vscode": {
     "languageId": "r"
    }
   },
   "outputs": [],
   "source": [
    "meta <- data.frame(\n",
    "    episodeName=character(),\n",
    "    fullSubtitles=character(),\n",
    "    subtitleCount=numeric(),\n",
    "    wordCount=numeric(),\n",
    "    runTime=numeric(),\n",
    "    speakingTime=numeric(),\n",
    "\n",
    "    averageWPM=numeric(),\n",
    "    stdWPM=numeric(),\n",
    "\n",
    "    averageSubtitleLength=numeric(),\n",
    "    stdSubtitleLength=numeric(),\n",
    "\n",
    "    averageSubtitleWPM = numeric(),\n",
    "    stdSubtitleWPM = numeric(),\n",
    "\n",
    "    averageduration = numeric(),\n",
    "    stdDuration = numeric(),\n",
    "\n",
    "    stringsAsFactors = FALSE\n",
    ")"
   ]
  },
  {
   "cell_type": "markdown",
   "metadata": {},
   "source": [
    "Now the main function to create a file for each episode, as well as adding rows to our meta table"
   ]
  },
  {
   "cell_type": "code",
   "execution_count": 21,
   "metadata": {
    "vscode": {
     "languageId": "r"
    }
   },
   "outputs": [],
   "source": [
    "readFileByIndex <- function(i){\n",
    "\n",
    "    # some variables parsed from filenames\n",
    "    episodeCode <- str_extract(filenames[i],\"[0-9]+.*?[0-9]+\")\n",
    "    title <- str_extract(filenames[i],\"(?<=[0-9]\\\\s-\\\\s).*(?=\\\\.en)\")\n",
    "    season <- str_extract(filenames[i],\"(?<=(\\\\s-\\\\s)).*?(?=x)\")\n",
    "    episode <- str_extract(filenames[i],\"(?<=([0-9]x)).*?(?=\\\\s)\")\n",
    "    prefix <- paste(getwd(),\"/TelevisionSubs/\",show,\"/\",sep=\"\")\n",
    "     \n",
    "    print(prefix)\n",
    "\n",
    "    df <- read_srt(paste(prefix,filenames[i],sep=\"\"))\n",
    "    df <- df[-nrow(df),] #drop last row because it's credit information\n",
    "\n",
    "    # some functions to clean up\n",
    "    dropPunct <- (function (x) gsub('[[:punct:]]+','',x))\n",
    "    dropNL <- (function(x) gsub(\"\\n\", \" \", x))\n",
    "\n",
    "    # create new csv for\n",
    "    df <- df %>% \n",
    "        mutate(subtitle = sapply(subtitle,tolower)) %>%\n",
    "\n",
    "        # cleanWords will clean up punctuation \n",
    "        mutate(cleanWords = sapply(subtitle,dropNL)) %>%\n",
    "        mutate(cleanWords = sapply(cleanWords,removePunctuation)) %>%\n",
    "\n",
    "        mutate(wordCount = sapply(strsplit(cleanWords,\"\\\\s+\"),length)) %>%\n",
    "        mutate(cumWordCount = cumsum(wordCount)) %>%\n",
    "\n",
    "        # deepCleanWords, for advanced processing\n",
    "        # mutate(deepCleanWords = sapply(cleanWords,removeWords,stopwords('english'))) %>%\n",
    "        # mutate(deepCleanWords = sapply(deepCleanWords, textstem::lemmatize_strings))\n",
    "        \n",
    "        mutate(minute = (1+floor(end / 60))) %>%\n",
    "        mutate(duration = (end-start)/ 60) %>%\n",
    "        mutate(subtitleWPM = wordCount/duration) %>% # All words / total time\n",
    "        mutate(cumTimeSpeaking = cumsum(duration)) %>%\n",
    "        mutate(rollingWPM = rollmean(cumWordCount/(end/60),k=5,fill=0)) \n",
    "        # mutate(rollingWPMSpeaking = rollmean(cumWordCount/cumTimeSpeaking,k=10,fill=0)) # All words / time talking\n",
    "\n",
    "    # assemble row for Meta table\n",
    "    temp <- data.frame(\n",
    "        episodeName     = paste(episodeCode,' - ',title,collapse = \"\"),\n",
    "        subtitleCount   = nrow(df),\n",
    "        fullSubtitles   = paste(df$subtitle,collapse = ' '),\n",
    "        totalWordCount   = sum(sapply(strsplit(paste(df$subtitle),\"\\\\s+\"), length)),\n",
    "        runTime         = df$end[length(df$end)],\n",
    "        speakingTime    = df$cumTimeSpeaking[length(df$cumTimeSpeaking)],\n",
    "\n",
    "        averageWPM      = mean(df$rollingWPM, na.rm = TRUE),\n",
    "        stdWPM          = sd(df$rollingWPM, na.rm = TRUE),\n",
    "\n",
    "        averageSubtitleLength = mean(df$wordCount, na.rm = TRUE),\n",
    "        stdSubtitleLength = sd(df$wordCount, na.rm = TRUE),\n",
    "\n",
    "        averageSubtitleWPM = mean(df$subtitleWPM, na.rm = TRUE),\n",
    "        stdSubtitleWPM  = sd(df$subtitleWPM, na.rm = TRUE),\n",
    "\n",
    "        averageDuration = mean(df$duration, na.rm = TRUE),\n",
    "        stdDuration     = mean(df$duration, na.rm = TRUE)\n",
    "    )\n",
    "\n",
    "    write.csv(df,paste('episode_analysis/',show,'/',episodeCode,' - ',title,sep=\"\"))\n",
    "\n",
    "    meta <<- rbind(meta,temp)\n",
    "\n",
    "\n",
    "    return(df)\n",
    "}"
   ]
  },
  {
   "cell_type": "markdown",
   "metadata": {},
   "source": [
    "Check data, and save a copy to double check it in a csv reader."
   ]
  },
  {
   "cell_type": "code",
   "execution_count": 24,
   "metadata": {
    "vscode": {
     "languageId": "r"
    }
   },
   "outputs": [
    {
     "name": "stdout",
     "output_type": "stream",
     "text": [
      "[1] \"d:/Projects/Chattiness/TelevisionSubs/GilmoreGirls/\"\n"
     ]
    },
    {
     "name": "stderr",
     "output_type": "stream",
     "text": [
      "Warning message in file(file, ifelse(append, \"a\", \"w\")):\n",
      "\"cannot open file 'episode_analysis/ GilmoreGirls / 1x01  -  Pilot': No such file or directory\"\n"
     ]
    },
    {
     "ename": "ERROR",
     "evalue": "Error in file(file, ifelse(append, \"a\", \"w\")): cannot open the connection\n",
     "output_type": "error",
     "traceback": [
      "Error in file(file, ifelse(append, \"a\", \"w\")): cannot open the connection\nTraceback:\n",
      "1. readFileByIndex(i)",
      "2. write.csv(df, paste(\"episode_analysis/\", show, \"/\", episodeCode, \n .     \" - \", title, collapse = \"\"))   # at line 63 of file <text>",
      "3. eval.parent(Call)",
      "4. eval(expr, p)",
      "5. eval(expr, p)",
      "6. utils::write.table(df, paste(\"episode_analysis/\", show, \"/\", \n .     episodeCode, \" - \", title, collapse = \"\"), col.names = NA, \n .     sep = \",\", dec = \".\", qmethod = \"double\")",
      "7. file(file, ifelse(append, \"a\", \"w\"))"
     ]
    }
   ],
   "source": [
    "for (i in 1:length(filenames)){\n",
    "    testdf <- readFileByIndex(i)\n",
    "    # if (i %% 10){\n",
    "    #     print(tail(testdf,1))\n",
    "    # }\n",
    "}\n",
    "\n",
    "metaSkipSubs <- meta[,!(names(meta) %in% \"fullSubtitles\")]\n",
    "head(metaSkipSubs)\n",
    "\n",
    "loc <- paste('./episode_analysis/',show,'/_meta.csv',sep=\"\")\n",
    "print(loc)\n",
    "write.csv(meta,loc)"
   ]
  },
  {
   "cell_type": "code",
   "execution_count": null,
   "metadata": {
    "vscode": {
     "languageId": "r"
    }
   },
   "outputs": [],
   "source": [
    "# paste(testdf$cleanWords,collapse = \" \")\n",
    "\n",
    "plot(testdf$start/60,testdf$subtitleWPM, xlab=\"Time (Minutes)\",ylab=\"WPM\", main='Words Per Minute in pilot',\n",
    " col='gray',ylim=c(50,500))\n",
    "\n",
    "       lines(testdf$start/60,testdf$rollingWPM,col=\"blue\")\n",
    "       # lines(testdf$start/60,testdf$rollingWPMSpeaking,col=\"red\")\n",
    "       legend(\"topright\", legend = c(\"Subtitle WPM (Instantaneous)\", \"Rolling WPM Total\"),\n",
    "              col = c(\"gray\", \"blue\"), lwd = 2)"
   ]
  },
  {
   "cell_type": "code",
   "execution_count": null,
   "metadata": {
    "vscode": {
     "languageId": "r"
    }
   },
   "outputs": [],
   "source": [
    "head(testdf[testdf$subtitleWPM >300,])"
   ]
  }
 ],
 "metadata": {
  "kernelspec": {
   "display_name": "R",
   "language": "R",
   "name": "ir"
  },
  "language_info": {
   "codemirror_mode": "r",
   "file_extension": ".r",
   "mimetype": "text/x-r-source",
   "name": "R",
   "pygments_lexer": "r",
   "version": "4.2.2"
  },
  "orig_nbformat": 4
 },
 "nbformat": 4,
 "nbformat_minor": 2
}
