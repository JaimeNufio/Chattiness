{
 "cells": [
  {
   "cell_type": "code",
   "execution_count": 150,
   "metadata": {
    "vscode": {
     "languageId": "r"
    }
   },
   "outputs": [
    {
     "name": "stderr",
     "output_type": "stream",
     "text": [
      "Warning message:\n",
      "\"package 'tm' is in use and will not be installed\"\n"
     ]
    }
   ],
   "source": [
    "install.packages(\"tm\")\n",
    "# remotes::install_github(\"kiernann/srt\")\n",
    "library(srt)\n",
    "library(tm)\n",
    "library(tidyverse)\n",
    "library(tidytext)"
   ]
  },
  {
   "cell_type": "code",
   "execution_count": 151,
   "metadata": {
    "vscode": {
     "languageId": "r"
    }
   },
   "outputs": [
    {
     "data": {
      "text/html": [
       "<style>\n",
       ".list-inline {list-style: none; margin:0; padding: 0}\n",
       ".list-inline>li {display: inline-block}\n",
       ".list-inline>li:not(:last-child)::after {content: \"\\00b7\"; padding: 0 .5ex}\n",
       "</style>\n",
       "<ol class=list-inline><li>'Gilmore Girls - 1x01 - Pilot.en.srt'</li><li>'Gilmore Girls - 1x02 - The Lorelais\\' First Day at Chilton.en.srt'</li><li>'Gilmore Girls - 1x03 - Kill Me Now.en.srt'</li><li>'Gilmore Girls - 1x04 - The Deer Hunters.en.srt'</li><li>'Gilmore Girls - 1x05 - Cinnamon\\'s Wake.en.srt'</li><li>'Gilmore Girls - 1x06 - Rory\\'s Birthday Parties.en.srt'</li></ol>\n"
      ],
      "text/latex": [
       "\\begin{enumerate*}\n",
       "\\item 'Gilmore Girls - 1x01 - Pilot.en.srt'\n",
       "\\item 'Gilmore Girls - 1x02 - The Lorelais\\textbackslash{}' First Day at Chilton.en.srt'\n",
       "\\item 'Gilmore Girls - 1x03 - Kill Me Now.en.srt'\n",
       "\\item 'Gilmore Girls - 1x04 - The Deer Hunters.en.srt'\n",
       "\\item 'Gilmore Girls - 1x05 - Cinnamon\\textbackslash{}'s Wake.en.srt'\n",
       "\\item 'Gilmore Girls - 1x06 - Rory\\textbackslash{}'s Birthday Parties.en.srt'\n",
       "\\end{enumerate*}\n"
      ],
      "text/markdown": [
       "1. 'Gilmore Girls - 1x01 - Pilot.en.srt'\n",
       "2. 'Gilmore Girls - 1x02 - The Lorelais\\' First Day at Chilton.en.srt'\n",
       "3. 'Gilmore Girls - 1x03 - Kill Me Now.en.srt'\n",
       "4. 'Gilmore Girls - 1x04 - The Deer Hunters.en.srt'\n",
       "5. 'Gilmore Girls - 1x05 - Cinnamon\\'s Wake.en.srt'\n",
       "6. 'Gilmore Girls - 1x06 - Rory\\'s Birthday Parties.en.srt'\n",
       "\n",
       "\n"
      ],
      "text/plain": [
       "[1] \"Gilmore Girls - 1x01 - Pilot.en.srt\"                             \n",
       "[2] \"Gilmore Girls - 1x02 - The Lorelais' First Day at Chilton.en.srt\"\n",
       "[3] \"Gilmore Girls - 1x03 - Kill Me Now.en.srt\"                       \n",
       "[4] \"Gilmore Girls - 1x04 - The Deer Hunters.en.srt\"                  \n",
       "[5] \"Gilmore Girls - 1x05 - Cinnamon's Wake.en.srt\"                   \n",
       "[6] \"Gilmore Girls - 1x06 - Rory's Birthday Parties.en.srt\"           "
      ]
     },
     "metadata": {},
     "output_type": "display_data"
    }
   ],
   "source": [
    "filenames <- list.files(path=\"./GilmoreGirls\",\n",
    "    pattern=\"*.srt\")\n",
    "\n",
    "# rename <- (function(x) (strsplit(x, \" - \")[[1]][c(1,2,3)]))\n",
    "# rename <- (function(x) strsplit(x, \".en.srt\"))\n",
    "\n",
    "# filenames <- lapply(filenames, rename)\n",
    "head(filenames)\n",
    "\n"
   ]
  },
  {
   "cell_type": "code",
   "execution_count": 152,
   "metadata": {
    "vscode": {
     "languageId": "r"
    }
   },
   "outputs": [],
   "source": [
    "prefix = paste(getwd(),\"/GilmoreGirls/\",sep=\"\")"
   ]
  },
  {
   "cell_type": "code",
   "execution_count": 153,
   "metadata": {
    "vscode": {
     "languageId": "r"
    }
   },
   "outputs": [
    {
     "data": {
      "text/html": [
       "<table class=\"dataframe\">\n",
       "<caption>A data.frame: 0 × 14</caption>\n",
       "<thead>\n",
       "\t<tr><th scope=col>n</th><th scope=col>Episode_Code</th><th scope=col>Title</th><th scope=col>Season</th><th scope=col>Episode</th><th scope=col>Total_Words</th><th scope=col>Total_Time</th><th scope=col>WPM_0th</th><th scope=col>WPM_25th</th><th scope=col>WPM_50th</th><th scope=col>WPM_75th</th><th scope=col>WPM_100th</th><th scope=col>WPM_Mean</th><th scope=col>WPM_Variance</th></tr>\n",
       "\t<tr><th scope=col>&lt;lgl&gt;</th><th scope=col>&lt;lgl&gt;</th><th scope=col>&lt;lgl&gt;</th><th scope=col>&lt;lgl&gt;</th><th scope=col>&lt;lgl&gt;</th><th scope=col>&lt;lgl&gt;</th><th scope=col>&lt;lgl&gt;</th><th scope=col>&lt;lgl&gt;</th><th scope=col>&lt;lgl&gt;</th><th scope=col>&lt;lgl&gt;</th><th scope=col>&lt;lgl&gt;</th><th scope=col>&lt;lgl&gt;</th><th scope=col>&lt;lgl&gt;</th><th scope=col>&lt;lgl&gt;</th></tr>\n",
       "</thead>\n",
       "<tbody>\n",
       "</tbody>\n",
       "</table>\n"
      ],
      "text/latex": [
       "A data.frame: 0 × 14\n",
       "\\begin{tabular}{llllllllllllll}\n",
       " n & Episode\\_Code & Title & Season & Episode & Total\\_Words & Total\\_Time & WPM\\_0th & WPM\\_25th & WPM\\_50th & WPM\\_75th & WPM\\_100th & WPM\\_Mean & WPM\\_Variance\\\\\n",
       " <lgl> & <lgl> & <lgl> & <lgl> & <lgl> & <lgl> & <lgl> & <lgl> & <lgl> & <lgl> & <lgl> & <lgl> & <lgl> & <lgl>\\\\\n",
       "\\hline\n",
       "\\end{tabular}\n"
      ],
      "text/markdown": [
       "\n",
       "A data.frame: 0 × 14\n",
       "\n",
       "| n &lt;lgl&gt; | Episode_Code &lt;lgl&gt; | Title &lt;lgl&gt; | Season &lt;lgl&gt; | Episode &lt;lgl&gt; | Total_Words &lt;lgl&gt; | Total_Time &lt;lgl&gt; | WPM_0th &lt;lgl&gt; | WPM_25th &lt;lgl&gt; | WPM_50th &lt;lgl&gt; | WPM_75th &lt;lgl&gt; | WPM_100th &lt;lgl&gt; | WPM_Mean &lt;lgl&gt; | WPM_Variance &lt;lgl&gt; |\n",
       "|---|---|---|---|---|---|---|---|---|---|---|---|---|---|\n",
       "\n"
      ],
      "text/plain": [
       "     n Episode_Code Title Season Episode Total_Words Total_Time WPM_0th\n",
       "     WPM_25th WPM_50th WPM_75th WPM_100th WPM_Mean WPM_Variance"
      ]
     },
     "metadata": {},
     "output_type": "display_data"
    }
   ],
   "source": [
    "#Create Meta table\n",
    "meta = data.frame(matrix(ncol=14,nrow=0))\n",
    "colnames(meta) = c('n','Episode_Code','Title','Season','Episode','Total_Words','Total_Time',\n",
    "        'WPM_0th','WPM_25th','WPM_50th','WPM_75th','WPM_100th',\n",
    "        'WPM_Mean','WPM_Variance')\n",
    "head(meta)"
   ]
  },
  {
   "cell_type": "code",
   "execution_count": 154,
   "metadata": {
    "vscode": {
     "languageId": "r"
    }
   },
   "outputs": [
    {
     "data": {
      "text/html": [
       "<table class=\"dataframe\">\n",
       "<caption>A tibble: 6 × 4</caption>\n",
       "<thead>\n",
       "\t<tr><th scope=col>n</th><th scope=col>start</th><th scope=col>end</th><th scope=col>subtitle</th></tr>\n",
       "\t<tr><th scope=col>&lt;int&gt;</th><th scope=col>&lt;dbl&gt;</th><th scope=col>&lt;dbl&gt;</th><th scope=col>&lt;chr&gt;</th></tr>\n",
       "</thead>\n",
       "<tbody>\n",
       "\t<tr><td>1</td><td>51.050</td><td>53.677</td><td>Please, Luke.                            </td></tr>\n",
       "\t<tr><td>2</td><td>53.752</td><td>55.514</td><td>How many cups\n",
       "have you had this morning?</td></tr>\n",
       "\t<tr><td>3</td><td>55.586</td><td>57.053</td><td>- None.\n",
       "- Plus?                         </td></tr>\n",
       "\t<tr><td>4</td><td>57.121</td><td>59.088</td><td>Five, but yours is better.               </td></tr>\n",
       "\t<tr><td>5</td><td>59.158</td><td>61.455</td><td>- You have a problem.\n",
       "- Yes, I do.      </td></tr>\n",
       "\t<tr><td>6</td><td>63.494</td><td>65.325</td><td>- Junkie.\n",
       "- Angel.                      </td></tr>\n",
       "</tbody>\n",
       "</table>\n"
      ],
      "text/latex": [
       "A tibble: 6 × 4\n",
       "\\begin{tabular}{llll}\n",
       " n & start & end & subtitle\\\\\n",
       " <int> & <dbl> & <dbl> & <chr>\\\\\n",
       "\\hline\n",
       "\t 1 & 51.050 & 53.677 & Please, Luke.                            \\\\\n",
       "\t 2 & 53.752 & 55.514 & How many cups\n",
       "have you had this morning?\\\\\n",
       "\t 3 & 55.586 & 57.053 & - None.\n",
       "- Plus?                         \\\\\n",
       "\t 4 & 57.121 & 59.088 & Five, but yours is better.               \\\\\n",
       "\t 5 & 59.158 & 61.455 & - You have a problem.\n",
       "- Yes, I do.      \\\\\n",
       "\t 6 & 63.494 & 65.325 & - Junkie.\n",
       "- Angel.                      \\\\\n",
       "\\end{tabular}\n"
      ],
      "text/markdown": [
       "\n",
       "A tibble: 6 × 4\n",
       "\n",
       "| n &lt;int&gt; | start &lt;dbl&gt; | end &lt;dbl&gt; | subtitle &lt;chr&gt; |\n",
       "|---|---|---|---|\n",
       "| 1 | 51.050 | 53.677 | Please, Luke.                             |\n",
       "| 2 | 53.752 | 55.514 | How many cups\n",
       "have you had this morning? |\n",
       "| 3 | 55.586 | 57.053 | - None.\n",
       "- Plus?                          |\n",
       "| 4 | 57.121 | 59.088 | Five, but yours is better.                |\n",
       "| 5 | 59.158 | 61.455 | - You have a problem.\n",
       "- Yes, I do.       |\n",
       "| 6 | 63.494 | 65.325 | - Junkie.\n",
       "- Angel.                       |\n",
       "\n"
      ],
      "text/plain": [
       "  n start  end    subtitle                                 \n",
       "1 1 51.050 53.677 Please, Luke.                            \n",
       "2 2 53.752 55.514 How many cups\\nhave you had this morning?\n",
       "3 3 55.586 57.053 - None.\\n- Plus?                         \n",
       "4 4 57.121 59.088 Five, but yours is better.               \n",
       "5 5 59.158 61.455 - You have a problem.\\n- Yes, I do.      \n",
       "6 6 63.494 65.325 - Junkie.\\n- Angel.                      "
      ]
     },
     "metadata": {},
     "output_type": "display_data"
    },
    {
     "data": {
      "image/png": "[encoded data removed]",
      "text/plain": [
       "plot without title"
      ]
     },
     "metadata": {
      "image/png": {
       "height": 420,
       "width": 420
      }
     },
     "output_type": "display_data"
    },
    {
     "data": {
      "image/png": "[encoded data removed]",
      "text/plain": [
       "plot without title"
      ]
     },
     "metadata": {
      "image/png": {
       "height": 420,
       "width": 420
      }
     },
     "output_type": "display_data"
    }
   ],
   "source": [
    "# first item\n",
    "df = read_srt(paste(prefix,filenames[1],sep=\"\"))\n",
    "df = df[-nrow(df),]\n",
    "\n",
    "head(df)\n",
    "\n",
    "dropPunct <- (function (x) gsub('[[:punct:] ]+',' ',x))\n",
    "dropNL <- (function(x) gsub(\"[\\n']\", \"\",x))\n",
    "# countWords <- (function (x) x$cumWords)\n",
    "dropStopWords <- (function (x) removeWords(x,stopwords('english')))\n",
    "\n",
    "df = df %>% mutate(subtitle = lapply(subtitle,tolower)) %>%\n",
    "    mutate(cleanWords = lapply(subtitle,dropNL)) %>%\n",
    "    mutate(cleanWords = lapply(cleanWords,dropPunct)) %>%\n",
    "    mutate(end = end/60) %>%\n",
    "    mutate(cumWordCount = cumsum(sapply(df$subtitle, function(x) length(unlist(strsplit(x, \" \")))))) %>%\n",
    "    mutate(WPM = cumWordCount/(end))\n",
    "\n",
    "\n",
    "# tail(df)\n",
    "\n",
    "plot(df$cumWordCount,df$WPM, xlab=\"Cumulative Words Spoken\",ylab=\"Words Per Minute (WPM)\")\n",
    "plot(df$end,df$cumWordCount, xlab=\"Time\",ylab=\"Cumulative Words Spoken\")\n",
    "\n",
    "# uniqueWords = unique(df$cleanWords)\n",
    "# uniqueWords\n"
   ]
  },
  {
   "cell_type": "code",
   "execution_count": 155,
   "metadata": {
    "vscode": {
     "languageId": "r"
    }
   },
   "outputs": [
    {
     "name": "stdout",
     "output_type": "stream",
     "text": [
      "[1] 253.1137\n"
     ]
    }
   ],
   "source": [
    "# quantileData <- quantile(df$WPM,c(0,0.25,0.5,0.75,1))\n",
    "# quantileData\n",
    "# sum = summary(df$WPM)\n",
    "# print(sum)\n",
    "# print(sum['Min.'])\n",
    "v = var(df$WPM)\n",
    "print(v)\n",
    "\n",
    "# c('Episode','Total_Words','Total_Time','WPM','0th','25th','50th','75th','100th')\n"
   ]
  },
  {
   "cell_type": "code",
   "execution_count": 156,
   "metadata": {
    "vscode": {
     "languageId": "r"
    }
   },
   "outputs": [],
   "source": [
    "for (i in 1:length(filenames)){\n",
    "\n",
    "    episodeCode = str_extract(filenames[i],\"[0-9]+.*?[0-9]+\")\n",
    "    title = str_extract(filenames[i],\"(?<=[0-9]\\\\s-\\\\s).*(?=\\\\.en)\")\n",
    "    season = str_extract(filenames[i],\"(?<=(\\\\s-\\\\s)).*?(?=x)\")\n",
    "    episode = str_extract(filenames[i],\"(?<=([0-9]x)).*?(?=\\\\s)\")\n",
    "\n",
    "    df = read_srt(paste(prefix,filenames[i],sep=\"\"))\n",
    "    df = df[-nrow(df),]\n",
    "\n",
    "    dropPunct <- (function (x) gsub('[[:punct:] ]+',' ',x))\n",
    "    dropNL <- (function(x) gsub(\"(\\n')\", \"\",x))\n",
    "    # countWords <- (function (x) x$cumWords)\n",
    "    dropStopWords <- (function (x) removeWords(x,stopwords('english')))\n",
    "\n",
    "    df = df %>% mutate(subtitle = lapply(subtitle,tolower)) %>%\n",
    "        mutate(cleanWords = lapply(subtitle,dropNL)) %>%\n",
    "        mutate(cleanWords = lapply(cleanWords,dropPunct)) %>%\n",
    "        mutate(end = end/60) %>%\n",
    "        mutate(cumWordCount = cumsum(sapply(df$subtitle, function(x) length(unlist(strsplit(x, \" \")))))) %>%\n",
    "        mutate(WPM = cumWordCount/(end))\n",
    "\n",
    "\n",
    "    sum <- array(summary(df$WPM),c(1,6))\n",
    "\n",
    "    metaRow = data.frame(\n",
    "        i,episodeCode,title,season,episode,\n",
    "        as.integer(tail(df,1)$cumWordCount), tail(df,1)$end,\n",
    "        sum[1],sum[2],sum[3],sum[5],sum[6],sum[4],var(df$WPM)\n",
    "    )\n",
    "\n",
    "    colnames(metaRow) = c('n','Episode_Code','Title','Season','Episode','Total_Words','Total_Time',\n",
    "        'WPM_0th','WPM_25th','WPM_50th','WPM_75th','WPM_100th',\n",
    "        'WPM_Mean','WPM_Variance')\n",
    "\n",
    "    meta = rbind(meta,metaRow)\n",
    "}"
   ]
  },
  {
   "cell_type": "code",
   "execution_count": null,
   "metadata": {
    "vscode": {
     "languageId": "r"
    }
   },
   "outputs": [],
   "source": [
    "meta['WPM_Total'] = (meta$Total_Words/meta$Total_Time)\n",
    "head(meta)\n",
    "# tail(meta)\n",
    "unique(meta$Season)"
   ]
  },
  {
   "cell_type": "code",
   "execution_count": null,
   "metadata": {
    "vscode": {
     "languageId": "r"
    }
   },
   "outputs": [],
   "source": [
    "# plot(meta$Total_Words,df$Total_Time, xlab=\"Total Words In Episode\",ylab=\"Run Time\")\n",
    "\n",
    "# WPM = (meta$Total_Words/meta$Total_Time)\n",
    "# plot(meta$n,WPM,xlab=\"Episode Number\",ylab=\"Words Per Minute\",main=\"Gilmore Girls Episodes WPM vs Episode Count\")\n",
    "\n",
    "\n",
    "ggplot(data = meta, aes(x = n, y = WPM_Total, color = Season)) + \n",
    "  geom_point() +\n",
    "  xlab(\"Episode Number\") +\n",
    "  ylab(\"Words Per Minute\") +\n",
    "  ggtitle(\"Gilmore Girls Episodes WPM vs Episode Count\")"
   ]
  },
  {
   "cell_type": "code",
   "execution_count": null,
   "metadata": {
    "vscode": {
     "languageId": "r"
    }
   },
   "outputs": [],
   "source": []
  }
 ],
 "metadata": {
  "kernelspec": {
   "display_name": "R",
   "language": "R",
   "name": "ir"
  },
  "language_info": {
   "codemirror_mode": "r",
   "file_extension": ".r",
   "mimetype": "text/x-r-source",
   "name": "R",
   "pygments_lexer": "r",
   "version": "4.2.2"
  },
  "orig_nbformat": 4
 },
 "nbformat": 4,
 "nbformat_minor": 2
}
