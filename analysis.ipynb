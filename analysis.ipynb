{
 "cells": [
  {
   "cell_type": "markdown",
   "metadata": {},
   "source": [
    "Library Imports"
   ]
  },
  {
   "cell_type": "markdown",
   "metadata": {},
   "source": [
    "Goal: Create a data pipeline for studying the subtitles of TV shows."
   ]
  },
  {
   "cell_type": "code",
   "execution_count": 4,
   "metadata": {
    "vscode": {
     "languageId": "r"
    }
   },
   "outputs": [],
   "source": [
    "suppressPackageStartupMessages(library(srt))\n",
    "suppressPackageStartupMessages(library(tm))\n",
    "suppressPackageStartupMessages(library(tidyverse))\n",
    "suppressPackageStartupMessages(library(textstem))\n",
    "suppressPackageStartupMessages(library(tidytext))\n",
    "suppressPackageStartupMessages(library(zoo))\n",
    "suppressPackageStartupMessages(library(dplyr))"
   ]
  },
  {
   "cell_type": "markdown",
   "metadata": {},
   "source": [
    "Get the names of our files for reading."
   ]
  },
  {
   "cell_type": "code",
   "execution_count": 5,
   "metadata": {
    "vscode": {
     "languageId": "r"
    }
   },
   "outputs": [],
   "source": [
    "filenames <- list.files(path=\"./GilmoreGirls\",pattern=\"*.srt\")\n",
    "# head(filenames)"
   ]
  },
  {
   "cell_type": "markdown",
   "metadata": {},
   "source": [
    "Create Meta-table to aggregate data from all the episodes "
   ]
  },
  {
   "cell_type": "code",
   "execution_count": 6,
   "metadata": {
    "vscode": {
     "languageId": "r"
    }
   },
   "outputs": [],
   "source": [
    "meta <- data.frame(\n",
    "    episodeName=character(),\n",
    "    fullSubtitles=character(),\n",
    "    subtitleCount=numeric(),\n",
    "    wordCount=numeric(),\n",
    "    runTime=numeric(),\n",
    "    speakingTime=numeric(),\n",
    "\n",
    "    averageWPM=numeric(),\n",
    "    stdWPM=numeric(),\n",
    "\n",
    "    averageSubtitleLength=numeric(),\n",
    "    stdSubtitleLength=numeric(),\n",
    "\n",
    "    averageSubtitleWPM = numeric(),\n",
    "    stdSubtitleWPM = numeric(),\n",
    "\n",
    "    averageduration = numeric(),\n",
    "    stdDuration = numeric(),\n",
    "\n",
    "    stringsAsFactors = FALSE\n",
    ")"
   ]
  },
  {
   "cell_type": "markdown",
   "metadata": {},
   "source": [
    "Now the main function to create a file for each episode, as well as adding rows to our meta table"
   ]
  },
  {
   "cell_type": "code",
   "execution_count": 7,
   "metadata": {
    "vscode": {
     "languageId": "r"
    }
   },
   "outputs": [],
   "source": [
    "readFileByIndex <- function(i){\n",
    "\n",
    "    # some variables parsed from filenames\n",
    "    episodeCode <- str_extract(filenames[i],\"[0-9]+.*?[0-9]+\")\n",
    "    title <- str_extract(filenames[i],\"(?<=[0-9]\\\\s-\\\\s).*(?=\\\\.en)\")\n",
    "    season <- str_extract(filenames[i],\"(?<=(\\\\s-\\\\s)).*?(?=x)\")\n",
    "    episode <- str_extract(filenames[i],\"(?<=([0-9]x)).*?(?=\\\\s)\")\n",
    "    prefix <- paste(getwd(),\"/GilmoreGirls/\",sep=\"\")\n",
    "     \n",
    "\n",
    "    df <- read_srt(paste(prefix,filenames[i],sep=\"\"))\n",
    "    df <- df[-nrow(df),] #drop last row because it's credit information\n",
    "\n",
    "    # some functions to clean up\n",
    "    dropPunct <- (function (x) gsub('[[:punct:]]+','',x))\n",
    "    dropNL <- (function(x) gsub(\"\\n\", \" \", x))\n",
    "\n",
    "    # create new csv for\n",
    "    df <- df %>% \n",
    "        mutate(subtitle = sapply(subtitle,tolower)) %>%\n",
    "\n",
    "        # cleanWords will clean up punctuation \n",
    "        mutate(cleanWords = sapply(subtitle,dropNL)) %>%\n",
    "        mutate(cleanWords = sapply(cleanWords,removePunctuation)) %>%\n",
    "\n",
    "        mutate(wordCount = sapply(strsplit(cleanWords,\"\\\\s+\"),length)) %>%\n",
    "        mutate(cumWordCount = cumsum(wordCount)) %>%\n",
    "\n",
    "        # deepCleanWords, for advanced processing\n",
    "        # mutate(deepCleanWords = sapply(cleanWords,removeWords,stopwords('english'))) %>%\n",
    "        # mutate(deepCleanWords = sapply(deepCleanWords, textstem::lemmatize_strings))\n",
    "        \n",
    "        mutate(minute = (1+floor(end / 60))) %>%\n",
    "        mutate(duration = end-start) %>%\n",
    "        mutate(subtitleWPM = wordCount/duration) %>% # All words / total time\n",
    "        mutate(cumTimeSpeaking = cumsum(duration)) %>%\n",
    "        mutate(rollingWPM = rollmean(cumWordCount/end,k=5,fill=0)) \n",
    "        # mutate(rollingWPMSpeaking = rollmean(cumWordCount/cumTimeSpeaking,k=10,fill=0)) # All words / time talking\n",
    "\n",
    "    # assemble row for Meta table\n",
    "    temp <- data.frame(\n",
    "        episodeName     = paste(episodeCode,' - ',title,collapse = \"\"),\n",
    "        subtitleCount   = nrow(df),\n",
    "        fullSubtitles   = paste(df$subtitle,collapse = ' '),\n",
    "        totalWordCount   = sum(sapply(strsplit(paste(df$subtitle),\"\\\\s+\"), length)),\n",
    "        runTime         = df$end[length(df$end)],\n",
    "        speakingTime    = df$cumTimeSpeaking[length(df$cumTimeSpeaking)],\n",
    "\n",
    "        averageWPM      = mean(df$rollingWPM, na.rm = TRUE),\n",
    "        stdWPM          = sd(df$rollingWPM, na.rm = TRUE),\n",
    "\n",
    "        averageSubtitleLength = mean(df$wordCount, na.rm = TRUE),\n",
    "        stdSubtitleLength = sd(df$wordCount, na.rm = TRUE),\n",
    "\n",
    "        averageSubtitleWPM = mean(df$subtitleWPM, na.rm = TRUE),\n",
    "        stdSubtitleWPM  = sd(df$subtitleWPM, na.rm = TRUE),\n",
    "\n",
    "        averageDuration = mean(df$duration, na.rm = TRUE),\n",
    "        stdDuration     = mean(df$duration, na.rm = TRUE)\n",
    "    )\n",
    "\n",
    "    write.csv(df,paste('episode_analysis/',episodeCode,' - ',title,collapse=\"\"))\n",
    "\n",
    "    meta <<- rbind(meta,temp)\n",
    "\n",
    "\n",
    "    return(df)\n",
    "}"
   ]
  },
  {
   "cell_type": "markdown",
   "metadata": {},
   "source": [
    "Check data, and save a copy to double check it in a csv reader."
   ]
  },
  {
   "cell_type": "code",
   "execution_count": 8,
   "metadata": {
    "vscode": {
     "languageId": "r"
    }
   },
   "outputs": [
    {
     "data": {
      "text/html": [
       "<table class=\"dataframe\">\n",
       "<caption>A data.frame: 6 × 13</caption>\n",
       "<thead>\n",
       "\t<tr><th></th><th scope=col>episodeName</th><th scope=col>subtitleCount</th><th scope=col>totalWordCount</th><th scope=col>runTime</th><th scope=col>speakingTime</th><th scope=col>averageWPM</th><th scope=col>stdWPM</th><th scope=col>averageSubtitleLength</th><th scope=col>stdSubtitleLength</th><th scope=col>averageSubtitleWPM</th><th scope=col>stdSubtitleWPM</th><th scope=col>averageDuration</th><th scope=col>stdDuration</th></tr>\n",
       "\t<tr><th></th><th scope=col>&lt;chr&gt;</th><th scope=col>&lt;int&gt;</th><th scope=col>&lt;int&gt;</th><th scope=col>&lt;dbl&gt;</th><th scope=col>&lt;dbl&gt;</th><th scope=col>&lt;dbl&gt;</th><th scope=col>&lt;dbl&gt;</th><th scope=col>&lt;dbl&gt;</th><th scope=col>&lt;dbl&gt;</th><th scope=col>&lt;dbl&gt;</th><th scope=col>&lt;dbl&gt;</th><th scope=col>&lt;dbl&gt;</th><th scope=col>&lt;dbl&gt;</th></tr>\n",
       "</thead>\n",
       "<tbody>\n",
       "\t<tr><th scope=row>1</th><td>1x01  -  Pilot                             </td><td>683</td><td>5443</td><td>2597.533</td><td>1722.050</td><td>1.835775</td><td>0.3222240</td><td>7.734993</td><td>3.549200</td><td>2.980968</td><td>0.9143331</td><td>2.521303</td><td>2.521303</td></tr>\n",
       "\t<tr><th scope=row>2</th><td>1x02  -  The Lorelais' First Day at Chilton</td><td>754</td><td>5930</td><td>2535.550</td><td>1789.262</td><td>2.015317</td><td>0.3555460</td><td>7.648541</td><td>3.625911</td><td>3.112435</td><td>0.9657955</td><td>2.373027</td><td>2.373027</td></tr>\n",
       "\t<tr><th scope=row>3</th><td>1x03  -  Kill Me Now                       </td><td>757</td><td>6453</td><td>2579.825</td><td>1906.310</td><td>2.526197</td><td>0.3240043</td><td>8.224571</td><td>3.443770</td><td>3.219969</td><td>0.9218293</td><td>2.518243</td><td>2.518243</td></tr>\n",
       "\t<tr><th scope=row>4</th><td>1x04  -  The Deer Hunters                  </td><td>785</td><td>6446</td><td>2623.680</td><td>1932.160</td><td>2.264309</td><td>0.3357959</td><td>7.950318</td><td>3.438428</td><td>3.182449</td><td>0.9301802</td><td>2.461350</td><td>2.461350</td></tr>\n",
       "\t<tr><th scope=row>5</th><td>1x05  -  Cinnamon's Wake                   </td><td>711</td><td>5803</td><td>2531.652</td><td>1764.392</td><td>2.165844</td><td>0.3500775</td><td>7.890295</td><td>3.579174</td><td>3.101427</td><td>0.9422581</td><td>2.481564</td><td>2.481564</td></tr>\n",
       "\t<tr><th scope=row>6</th><td>1x06  -  Rory's Birthday Parties           </td><td>751</td><td>6335</td><td>2605.976</td><td>1882.171</td><td>2.449102</td><td>0.2969974</td><td>8.166445</td><td>3.473748</td><td>3.208177</td><td>0.9100049</td><td>2.506220</td><td>2.506220</td></tr>\n",
       "</tbody>\n",
       "</table>\n"
      ],
      "text/latex": [
       "A data.frame: 6 × 13\n",
       "\\begin{tabular}{r|lllllllllllll}\n",
       "  & episodeName & subtitleCount & totalWordCount & runTime & speakingTime & averageWPM & stdWPM & averageSubtitleLength & stdSubtitleLength & averageSubtitleWPM & stdSubtitleWPM & averageDuration & stdDuration\\\\\n",
       "  & <chr> & <int> & <int> & <dbl> & <dbl> & <dbl> & <dbl> & <dbl> & <dbl> & <dbl> & <dbl> & <dbl> & <dbl>\\\\\n",
       "\\hline\n",
       "\t1 & 1x01  -  Pilot                              & 683 & 5443 & 2597.533 & 1722.050 & 1.835775 & 0.3222240 & 7.734993 & 3.549200 & 2.980968 & 0.9143331 & 2.521303 & 2.521303\\\\\n",
       "\t2 & 1x02  -  The Lorelais' First Day at Chilton & 754 & 5930 & 2535.550 & 1789.262 & 2.015317 & 0.3555460 & 7.648541 & 3.625911 & 3.112435 & 0.9657955 & 2.373027 & 2.373027\\\\\n",
       "\t3 & 1x03  -  Kill Me Now                        & 757 & 6453 & 2579.825 & 1906.310 & 2.526197 & 0.3240043 & 8.224571 & 3.443770 & 3.219969 & 0.9218293 & 2.518243 & 2.518243\\\\\n",
       "\t4 & 1x04  -  The Deer Hunters                   & 785 & 6446 & 2623.680 & 1932.160 & 2.264309 & 0.3357959 & 7.950318 & 3.438428 & 3.182449 & 0.9301802 & 2.461350 & 2.461350\\\\\n",
       "\t5 & 1x05  -  Cinnamon's Wake                    & 711 & 5803 & 2531.652 & 1764.392 & 2.165844 & 0.3500775 & 7.890295 & 3.579174 & 3.101427 & 0.9422581 & 2.481564 & 2.481564\\\\\n",
       "\t6 & 1x06  -  Rory's Birthday Parties            & 751 & 6335 & 2605.976 & 1882.171 & 2.449102 & 0.2969974 & 8.166445 & 3.473748 & 3.208177 & 0.9100049 & 2.506220 & 2.506220\\\\\n",
       "\\end{tabular}\n"
      ],
      "text/markdown": [
       "\n",
       "A data.frame: 6 × 13\n",
       "\n",
       "| <!--/--> | episodeName &lt;chr&gt; | subtitleCount &lt;int&gt; | totalWordCount &lt;int&gt; | runTime &lt;dbl&gt; | speakingTime &lt;dbl&gt; | averageWPM &lt;dbl&gt; | stdWPM &lt;dbl&gt; | averageSubtitleLength &lt;dbl&gt; | stdSubtitleLength &lt;dbl&gt; | averageSubtitleWPM &lt;dbl&gt; | stdSubtitleWPM &lt;dbl&gt; | averageDuration &lt;dbl&gt; | stdDuration &lt;dbl&gt; |\n",
       "|---|---|---|---|---|---|---|---|---|---|---|---|---|---|\n",
       "| 1 | 1x01  -  Pilot                              | 683 | 5443 | 2597.533 | 1722.050 | 1.835775 | 0.3222240 | 7.734993 | 3.549200 | 2.980968 | 0.9143331 | 2.521303 | 2.521303 |\n",
       "| 2 | 1x02  -  The Lorelais' First Day at Chilton | 754 | 5930 | 2535.550 | 1789.262 | 2.015317 | 0.3555460 | 7.648541 | 3.625911 | 3.112435 | 0.9657955 | 2.373027 | 2.373027 |\n",
       "| 3 | 1x03  -  Kill Me Now                        | 757 | 6453 | 2579.825 | 1906.310 | 2.526197 | 0.3240043 | 8.224571 | 3.443770 | 3.219969 | 0.9218293 | 2.518243 | 2.518243 |\n",
       "| 4 | 1x04  -  The Deer Hunters                   | 785 | 6446 | 2623.680 | 1932.160 | 2.264309 | 0.3357959 | 7.950318 | 3.438428 | 3.182449 | 0.9301802 | 2.461350 | 2.461350 |\n",
       "| 5 | 1x05  -  Cinnamon's Wake                    | 711 | 5803 | 2531.652 | 1764.392 | 2.165844 | 0.3500775 | 7.890295 | 3.579174 | 3.101427 | 0.9422581 | 2.481564 | 2.481564 |\n",
       "| 6 | 1x06  -  Rory's Birthday Parties            | 751 | 6335 | 2605.976 | 1882.171 | 2.449102 | 0.2969974 | 8.166445 | 3.473748 | 3.208177 | 0.9100049 | 2.506220 | 2.506220 |\n",
       "\n"
      ],
      "text/plain": [
       "  episodeName                                 subtitleCount totalWordCount\n",
       "1 1x01  -  Pilot                              683           5443          \n",
       "2 1x02  -  The Lorelais' First Day at Chilton 754           5930          \n",
       "3 1x03  -  Kill Me Now                        757           6453          \n",
       "4 1x04  -  The Deer Hunters                   785           6446          \n",
       "5 1x05  -  Cinnamon's Wake                    711           5803          \n",
       "6 1x06  -  Rory's Birthday Parties            751           6335          \n",
       "  runTime  speakingTime averageWPM stdWPM    averageSubtitleLength\n",
       "1 2597.533 1722.050     1.835775   0.3222240 7.734993             \n",
       "2 2535.550 1789.262     2.015317   0.3555460 7.648541             \n",
       "3 2579.825 1906.310     2.526197   0.3240043 8.224571             \n",
       "4 2623.680 1932.160     2.264309   0.3357959 7.950318             \n",
       "5 2531.652 1764.392     2.165844   0.3500775 7.890295             \n",
       "6 2605.976 1882.171     2.449102   0.2969974 8.166445             \n",
       "  stdSubtitleLength averageSubtitleWPM stdSubtitleWPM averageDuration\n",
       "1 3.549200          2.980968           0.9143331      2.521303       \n",
       "2 3.625911          3.112435           0.9657955      2.373027       \n",
       "3 3.443770          3.219969           0.9218293      2.518243       \n",
       "4 3.438428          3.182449           0.9301802      2.461350       \n",
       "5 3.579174          3.101427           0.9422581      2.481564       \n",
       "6 3.473748          3.208177           0.9100049      2.506220       \n",
       "  stdDuration\n",
       "1 2.521303   \n",
       "2 2.373027   \n",
       "3 2.518243   \n",
       "4 2.461350   \n",
       "5 2.481564   \n",
       "6 2.506220   "
      ]
     },
     "metadata": {},
     "output_type": "display_data"
    }
   ],
   "source": [
    "for (i in 1:length(filenames)){\n",
    "    testdf <- readFileByIndex(i)\n",
    "    # if (i %% 10){\n",
    "    #     print(tail(testdf,1))\n",
    "    # }\n",
    "}\n",
    "\n",
    "metaSkipSubs <- meta[,!(names(meta) %in% \"fullSubtitles\")]\n",
    "head(metaSkipSubs)\n",
    "\n",
    "write.csv(meta,paste('meta.csv',collapse=\"\"))\n",
    "\n"
   ]
  },
  {
   "cell_type": "code",
   "execution_count": 9,
   "metadata": {
    "vscode": {
     "languageId": "r"
    }
   },
   "outputs": [
    {
     "data": {
      "image/png": "[encoded data removed]",
      "text/plain": [
       "Plot with title \"Words Per Minute in pilot of Gilmore Girls\""
      ]
     },
     "metadata": {
      "image/png": {
       "height": 420,
       "width": 420
      }
     },
     "output_type": "display_data"
    }
   ],
   "source": [
    "# paste(testdf$cleanWords,collapse = \" \")\n",
    "\n",
    "plot(testdf$start/60,testdf$subtitleWPM, xlab=\"Time (Minutes)\",ylab=\"WPM\", main='Words Per Minute in pilot of Gilmore Girls',\n",
    " col='gray',ylim=c(0,6))\n",
    "\n",
    "       lines(testdf$start/60,testdf$rollingWPM,col=\"blue\")\n",
    "       # lines(testdf$start/60,testdf$rollingWPMSpeaking,col=\"red\")\n",
    "       legend(\"topright\", legend = c(\"Subtitle WPM (Instantaneous)\", \"Rolling WPM Total\"),\n",
    "              col = c(\"gray\", \"blue\"), lwd = 2)"
   ]
  },
  {
   "cell_type": "code",
   "execution_count": 10,
   "metadata": {
    "vscode": {
     "languageId": "r"
    }
   },
   "outputs": [],
   "source": [
    "# plot(meta$,testdf$subtitleWPM, xlab=\"Time (Minutes)\",ylab=\"WPM\", main='Words Per Minute in pilot of Gilmore Girls',\n",
    "#  col='gray',ylim=c(0,6))\n",
    "\n",
    "#        lines(testdf$start/60,testdf$rollingWPM,col=\"blue\")\n",
    "#        # lines(testdf$start/60,testdf$rollingWPMSpeaking,col=\"red\")\n",
    "#        legend(\"topright\", legend = c(\"Subtitle WPM (Instantaneous)\", \"Rolling WPM Total\"),\n",
    "#               col = c(\"gray\", \"blue\"), lwd = 2)"
   ]
  }
 ],
 "metadata": {
  "kernelspec": {
   "display_name": "R",
   "language": "R",
   "name": "ir"
  },
  "language_info": {
   "codemirror_mode": "r",
   "file_extension": ".r",
   "mimetype": "text/x-r-source",
   "name": "R",
   "pygments_lexer": "r",
   "version": "4.2.2"
  },
  "orig_nbformat": 4
 },
 "nbformat": 4,
 "nbformat_minor": 2
}
