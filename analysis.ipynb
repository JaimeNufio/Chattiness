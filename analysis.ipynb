{
 "cells": [
  {
   "cell_type": "markdown",
   "metadata": {},
   "source": [
    "Library Imports"
   ]
  },
  {
   "cell_type": "markdown",
   "metadata": {},
   "source": [
    "Goal: Create a data pipeline for studying the subtitles of TV shows."
   ]
  },
  {
   "cell_type": "code",
   "execution_count": 11,
   "metadata": {
    "vscode": {
     "languageId": "r"
    }
   },
   "outputs": [],
   "source": [
    "suppressPackageStartupMessages(library(srt))\n",
    "suppressPackageStartupMessages(library(tm))\n",
    "suppressPackageStartupMessages(library(tidyverse))\n",
    "suppressPackageStartupMessages(library(textstem))\n",
    "suppressPackageStartupMessages(library(tidytext))\n",
    "suppressPackageStartupMessages(library(zoo))\n",
    "suppressPackageStartupMessages(library(dplyr))"
   ]
  },
  {
   "cell_type": "markdown",
   "metadata": {},
   "source": [
    "Get the names of our files for reading."
   ]
  },
  {
   "cell_type": "code",
   "execution_count": 12,
   "metadata": {
    "vscode": {
     "languageId": "r"
    }
   },
   "outputs": [],
   "source": [
    "filenames <- list.files(path=\"./GilmoreGirls\",pattern=\"*.srt\")\n",
    "# head(filenames)"
   ]
  },
  {
   "cell_type": "markdown",
   "metadata": {},
   "source": [
    "Create Meta-table to aggregate data from all the episodes "
   ]
  },
  {
   "cell_type": "code",
   "execution_count": 13,
   "metadata": {
    "vscode": {
     "languageId": "r"
    }
   },
   "outputs": [],
   "source": [
    "meta <- data.frame(\n",
    "    episodeName=character(),\n",
    "    subtitleCount=numeric(),\n",
    "    wordCount=numeric(),\n",
    "    runTime=numeric(),\n",
    "    speakingTime=numeric(),\n",
    "    averageWPM=numeric(),\n",
    "    stdWPM=numeric(),\n",
    "    averageSubtitleLength=numeric(),\n",
    "    stdSubtitleLength=numeric(),\n",
    "    fullSubtitles=character(),\n",
    "    averageSubtitleWPM = numeric(),\n",
    "    stdSubtitleWPM = numeric(),\n",
    "    stringsAsFactors = FALSE\n",
    ")"
   ]
  },
  {
   "cell_type": "markdown",
   "metadata": {},
   "source": [
    "Now the main function to create a file for each episode, as well as adding rows to our meta table"
   ]
  },
  {
   "cell_type": "code",
   "execution_count": 14,
   "metadata": {
    "vscode": {
     "languageId": "r"
    }
   },
   "outputs": [],
   "source": [
    "readFileByIndex <- function(i){\n",
    "\n",
    "    # some variables parsed from filenames\n",
    "    episodeCode <- str_extract(filenames[i],\"[0-9]+.*?[0-9]+\")\n",
    "    title <- str_extract(filenames[i],\"(?<=[0-9]\\\\s-\\\\s).*(?=\\\\.en)\")\n",
    "    season <- str_extract(filenames[i],\"(?<=(\\\\s-\\\\s)).*?(?=x)\")\n",
    "    episode <- str_extract(filenames[i],\"(?<=([0-9]x)).*?(?=\\\\s)\")\n",
    "    prefix <- paste(getwd(),\"/GilmoreGirls/\",sep=\"\")\n",
    "     \n",
    "\n",
    "    df <- read_srt(paste(prefix,filenames[i],sep=\"\"))\n",
    "    df <- df[-nrow(df),] #drop last row because it's credit information\n",
    "\n",
    "    # some functions to clean up\n",
    "    dropPunct <- (function (x) gsub('[[:punct:]]+','',x))\n",
    "    dropNL <- (function(x) gsub(\"\\n\", \" \", x))\n",
    "\n",
    "    # create new csv for\n",
    "    df <- df %>% \n",
    "        mutate(subtitle = sapply(subtitle,tolower)) %>%\n",
    "\n",
    "        # cleanWords will clean up punctuation \n",
    "        mutate(cleanWords = sapply(subtitle,dropNL)) %>%\n",
    "        mutate(cleanWords = sapply(cleanWords,removePunctuation)) %>%\n",
    "\n",
    "        mutate(wordCount = sapply(strsplit(cleanWords,\"\\\\s+\"),length)) %>%\n",
    "        mutate(cumWordCount = cumsum(wordCount)) %>%\n",
    "\n",
    "        # deepCleanWords, for advanced processing\n",
    "        # mutate(deepCleanWords = sapply(cleanWords,removeWords,stopwords('english'))) %>%\n",
    "        # mutate(deepCleanWords = sapply(deepCleanWords, textstem::lemmatize_strings))\n",
    "        \n",
    "        mutate(minute = (1+floor(end / 60))) %>%\n",
    "        mutate(subtitleLength = end-start) %>%\n",
    "        mutate(subtitleWPM = wordCount/subtitleLength) %>% # All words / total time\n",
    "        mutate(cumTimeSpeaking = cumsum(subtitleLength)) %>%\n",
    "        mutate(rollingWPM = rollmean(cumWordCount/end,k=10,fill=0)) \n",
    "        # mutate(rollingWPMSpeaking = rollmean(cumWordCount/cumTimeSpeaking,k=10,fill=0)) # All words / time talking\n",
    "\n",
    "    write.csv(df,paste('episode_analysis/',episodeCode,' - ',title,collapse=\"\"))\n",
    "\n",
    "\n",
    "    # assemble row for Meta table\n",
    "    temp <- data.frame(\n",
    "        episodeName     = paste(episodeCode,' - ',title,collapse = \"\"),\n",
    "        subtitleCount   = length(df),\n",
    "        fullSubtitles   = paste(df$subtitle,collapse = ' '),\n",
    "        wordCount       = sum(sapply(strsplit(paste(df$subtitle),\"\\\\s+\"), length)),\n",
    "        runTime         = df$end[length(df$end)],\n",
    "        speakingTime    = df$cumTimeSpeaking[length(df$cumTimeSpeaking)],\n",
    "        averageWPM      = mean(df$rollingWPM, na.rm = TRUE),\n",
    "        stdWPM          = sd(df$rollingWPM, na.rm = TRUE),\n",
    "        averageSubtitleLength = mean(sapply(strsplit(paste(df$subtitle),\"\\\\s+\"), length)),\n",
    "        stdSubtitleLength = sd(sapply(strsplit(paste(df$subtitle),\"\\\\s+\"), length)),\n",
    "        averageSubtitleWPM = mean(df$subtitleWPM),\n",
    "        stdSubtitleWPM = sd(df$subtitleWPM)\n",
    "    )\n",
    "\n",
    "    meta <<- rbind(meta,temp)\n",
    "\n",
    "\n",
    "    return(df)\n",
    "}"
   ]
  },
  {
   "cell_type": "markdown",
   "metadata": {},
   "source": [
    "Check data, and save a copy to double check it in a csv reader."
   ]
  },
  {
   "cell_type": "code",
   "execution_count": 15,
   "metadata": {
    "vscode": {
     "languageId": "r"
    }
   },
   "outputs": [
    {
     "data": {
      "text/html": [
       "<table class=\"dataframe\">\n",
       "<caption>A data.frame: 6 × 11</caption>\n",
       "<thead>\n",
       "\t<tr><th></th><th scope=col>episodeName</th><th scope=col>subtitleCount</th><th scope=col>wordCount</th><th scope=col>runTime</th><th scope=col>speakingTime</th><th scope=col>averageWPM</th><th scope=col>stdWPM</th><th scope=col>averageSubtitleLength</th><th scope=col>stdSubtitleLength</th><th scope=col>averageSubtitleWPM</th><th scope=col>stdSubtitleWPM</th></tr>\n",
       "\t<tr><th></th><th scope=col>&lt;chr&gt;</th><th scope=col>&lt;int&gt;</th><th scope=col>&lt;int&gt;</th><th scope=col>&lt;dbl&gt;</th><th scope=col>&lt;dbl&gt;</th><th scope=col>&lt;dbl&gt;</th><th scope=col>&lt;dbl&gt;</th><th scope=col>&lt;dbl&gt;</th><th scope=col>&lt;dbl&gt;</th><th scope=col>&lt;dbl&gt;</th><th scope=col>&lt;dbl&gt;</th></tr>\n",
       "</thead>\n",
       "<tbody>\n",
       "\t<tr><th scope=row>1</th><td>1x01  -  Pilot                             </td><td>12</td><td>5443</td><td>2597.533</td><td>1722.050</td><td>1.835775</td><td>0.3222240</td><td>7.969253</td><td>3.601554</td><td>2.980968</td><td>0.9143331</td></tr>\n",
       "\t<tr><th scope=row>2</th><td>1x02  -  The Lorelais' First Day at Chilton</td><td>12</td><td>5930</td><td>2535.550</td><td>1789.262</td><td>2.015317</td><td>0.3555460</td><td>7.864721</td><td>3.674723</td><td>3.112435</td><td>0.9657955</td></tr>\n",
       "\t<tr><th scope=row>3</th><td>1x03  -  Kill Me Now                       </td><td>12</td><td>6453</td><td>2579.825</td><td>1906.310</td><td>2.526197</td><td>0.3240043</td><td>8.524439</td><td>3.525568</td><td>3.219969</td><td>0.9218293</td></tr>\n",
       "\t<tr><th scope=row>4</th><td>1x04  -  The Deer Hunters                  </td><td>12</td><td>6446</td><td>2623.680</td><td>1932.160</td><td>2.264309</td><td>0.3357959</td><td>8.211465</td><td>3.512532</td><td>3.182449</td><td>0.9301802</td></tr>\n",
       "\t<tr><th scope=row>5</th><td>1x05  -  Cinnamon's Wake                   </td><td>12</td><td>5803</td><td>2531.652</td><td>1764.392</td><td>2.165844</td><td>0.3500775</td><td>8.161744</td><td>3.628603</td><td>3.101427</td><td>0.9422581</td></tr>\n",
       "\t<tr><th scope=row>6</th><td>1x06  -  Rory's Birthday Parties           </td><td>12</td><td>6335</td><td>2605.976</td><td>1882.171</td><td>2.449102</td><td>0.2969974</td><td>8.435419</td><td>3.534330</td><td>3.208177</td><td>0.9100049</td></tr>\n",
       "</tbody>\n",
       "</table>\n"
      ],
      "text/latex": [
       "A data.frame: 6 × 11\n",
       "\\begin{tabular}{r|lllllllllll}\n",
       "  & episodeName & subtitleCount & wordCount & runTime & speakingTime & averageWPM & stdWPM & averageSubtitleLength & stdSubtitleLength & averageSubtitleWPM & stdSubtitleWPM\\\\\n",
       "  & <chr> & <int> & <int> & <dbl> & <dbl> & <dbl> & <dbl> & <dbl> & <dbl> & <dbl> & <dbl>\\\\\n",
       "\\hline\n",
       "\t1 & 1x01  -  Pilot                              & 12 & 5443 & 2597.533 & 1722.050 & 1.835775 & 0.3222240 & 7.969253 & 3.601554 & 2.980968 & 0.9143331\\\\\n",
       "\t2 & 1x02  -  The Lorelais' First Day at Chilton & 12 & 5930 & 2535.550 & 1789.262 & 2.015317 & 0.3555460 & 7.864721 & 3.674723 & 3.112435 & 0.9657955\\\\\n",
       "\t3 & 1x03  -  Kill Me Now                        & 12 & 6453 & 2579.825 & 1906.310 & 2.526197 & 0.3240043 & 8.524439 & 3.525568 & 3.219969 & 0.9218293\\\\\n",
       "\t4 & 1x04  -  The Deer Hunters                   & 12 & 6446 & 2623.680 & 1932.160 & 2.264309 & 0.3357959 & 8.211465 & 3.512532 & 3.182449 & 0.9301802\\\\\n",
       "\t5 & 1x05  -  Cinnamon's Wake                    & 12 & 5803 & 2531.652 & 1764.392 & 2.165844 & 0.3500775 & 8.161744 & 3.628603 & 3.101427 & 0.9422581\\\\\n",
       "\t6 & 1x06  -  Rory's Birthday Parties            & 12 & 6335 & 2605.976 & 1882.171 & 2.449102 & 0.2969974 & 8.435419 & 3.534330 & 3.208177 & 0.9100049\\\\\n",
       "\\end{tabular}\n"
      ],
      "text/markdown": [
       "\n",
       "A data.frame: 6 × 11\n",
       "\n",
       "| <!--/--> | episodeName &lt;chr&gt; | subtitleCount &lt;int&gt; | wordCount &lt;int&gt; | runTime &lt;dbl&gt; | speakingTime &lt;dbl&gt; | averageWPM &lt;dbl&gt; | stdWPM &lt;dbl&gt; | averageSubtitleLength &lt;dbl&gt; | stdSubtitleLength &lt;dbl&gt; | averageSubtitleWPM &lt;dbl&gt; | stdSubtitleWPM &lt;dbl&gt; |\n",
       "|---|---|---|---|---|---|---|---|---|---|---|---|\n",
       "| 1 | 1x01  -  Pilot                              | 12 | 5443 | 2597.533 | 1722.050 | 1.835775 | 0.3222240 | 7.969253 | 3.601554 | 2.980968 | 0.9143331 |\n",
       "| 2 | 1x02  -  The Lorelais' First Day at Chilton | 12 | 5930 | 2535.550 | 1789.262 | 2.015317 | 0.3555460 | 7.864721 | 3.674723 | 3.112435 | 0.9657955 |\n",
       "| 3 | 1x03  -  Kill Me Now                        | 12 | 6453 | 2579.825 | 1906.310 | 2.526197 | 0.3240043 | 8.524439 | 3.525568 | 3.219969 | 0.9218293 |\n",
       "| 4 | 1x04  -  The Deer Hunters                   | 12 | 6446 | 2623.680 | 1932.160 | 2.264309 | 0.3357959 | 8.211465 | 3.512532 | 3.182449 | 0.9301802 |\n",
       "| 5 | 1x05  -  Cinnamon's Wake                    | 12 | 5803 | 2531.652 | 1764.392 | 2.165844 | 0.3500775 | 8.161744 | 3.628603 | 3.101427 | 0.9422581 |\n",
       "| 6 | 1x06  -  Rory's Birthday Parties            | 12 | 6335 | 2605.976 | 1882.171 | 2.449102 | 0.2969974 | 8.435419 | 3.534330 | 3.208177 | 0.9100049 |\n",
       "\n"
      ],
      "text/plain": [
       "  episodeName                                 subtitleCount wordCount runTime \n",
       "1 1x01  -  Pilot                              12            5443      2597.533\n",
       "2 1x02  -  The Lorelais' First Day at Chilton 12            5930      2535.550\n",
       "3 1x03  -  Kill Me Now                        12            6453      2579.825\n",
       "4 1x04  -  The Deer Hunters                   12            6446      2623.680\n",
       "5 1x05  -  Cinnamon's Wake                    12            5803      2531.652\n",
       "6 1x06  -  Rory's Birthday Parties            12            6335      2605.976\n",
       "  speakingTime averageWPM stdWPM    averageSubtitleLength stdSubtitleLength\n",
       "1 1722.050     1.835775   0.3222240 7.969253              3.601554         \n",
       "2 1789.262     2.015317   0.3555460 7.864721              3.674723         \n",
       "3 1906.310     2.526197   0.3240043 8.524439              3.525568         \n",
       "4 1932.160     2.264309   0.3357959 8.211465              3.512532         \n",
       "5 1764.392     2.165844   0.3500775 8.161744              3.628603         \n",
       "6 1882.171     2.449102   0.2969974 8.435419              3.534330         \n",
       "  averageSubtitleWPM stdSubtitleWPM\n",
       "1 2.980968           0.9143331     \n",
       "2 3.112435           0.9657955     \n",
       "3 3.219969           0.9218293     \n",
       "4 3.182449           0.9301802     \n",
       "5 3.101427           0.9422581     \n",
       "6 3.208177           0.9100049     "
      ]
     },
     "metadata": {},
     "output_type": "display_data"
    }
   ],
   "source": [
    "for (i in 1:length(filenames)){\n",
    "    readFileByIndex(i)\n",
    "}\n",
    "\n",
    "metaSkipSubs <- meta[,!(names(meta) %in% \"fullSubtitles\")]\n",
    "head(metaSkipSubs)\n",
    "\n",
    "write.csv(meta,paste('meta.csv',collapse=\"\"))\n",
    "\n"
   ]
  },
  {
   "cell_type": "code",
   "execution_count": 16,
   "metadata": {
    "vscode": {
     "languageId": "r"
    }
   },
   "outputs": [
    {
     "ename": "ERROR",
     "evalue": "Error in h(simpleError(msg, call)): error in evaluating the argument 'x' in selecting a method for function 'plot': object 'testdf' not found\n",
     "output_type": "error",
     "traceback": [
      "Error in h(simpleError(msg, call)): error in evaluating the argument 'x' in selecting a method for function 'plot': object 'testdf' not found\nTraceback:\n",
      "1. plot(testdf$start/60, testdf$subtitleWPM, xlab = \"Time (Minutes)\", \n .     ylab = \"WPM\", main = \"Words Per Minute in pilot of Gilmore Girls\", \n .     col = \"gray\")",
      "2. .handleSimpleError(function (cond) \n . .Internal(C_tryCatchHelper(addr, 1L, cond)), \"object 'testdf' not found\", \n .     base::quote(plot(testdf$start/60, testdf$subtitleWPM, xlab = \"Time (Minutes)\", \n .         ylab = \"WPM\", main = \"Words Per Minute in pilot of Gilmore Girls\", \n .         col = \"gray\")))",
      "3. h(simpleError(msg, call))"
     ]
    }
   ],
   "source": [
    "# paste(testdf$cleanWords,collapse = \" \")\n",
    "plot(testdf$start/60,testdf$subtitleWPM, xlab=\"Time (Minutes)\",ylab=\"WPM\", main='Words Per Minute in pilot of Gilmore Girls',\n",
    " col='gray')\n",
    "lines(testdf$start/60,testdf$rollingWPM,col=\"blue\")\n",
    "# lines(testdf$start/60,testdf$rollingWPMSpeaking,col=\"red\")\n",
    "legend(\"topright\", legend = c(\"Subtitle WPM (Instantaneous)\", \"Rolling WPM Total\"),\n",
    "       col = c(\"gray\", \"blue\"), lwd = 2)"
   ]
  },
  {
   "cell_type": "code",
   "execution_count": null,
   "metadata": {
    "vscode": {
     "languageId": "r"
    }
   },
   "outputs": [],
   "source": []
  }
 ],
 "metadata": {
  "kernelspec": {
   "display_name": "R",
   "language": "R",
   "name": "ir"
  },
  "language_info": {
   "codemirror_mode": "r",
   "file_extension": ".r",
   "mimetype": "text/x-r-source",
   "name": "R",
   "pygments_lexer": "r",
   "version": "4.2.2"
  },
  "orig_nbformat": 4
 },
 "nbformat": 4,
 "nbformat_minor": 2
}
