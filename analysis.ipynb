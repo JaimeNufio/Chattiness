{
 "cells": [
  {
   "cell_type": "markdown",
   "metadata": {},
   "source": [
    "Library Imports"
   ]
  },
  {
   "cell_type": "markdown",
   "metadata": {},
   "source": [
    "Goal: Create a data pipeline for studying the subtitles of TV shows."
   ]
  },
  {
   "cell_type": "code",
   "execution_count": 15,
   "metadata": {
    "vscode": {
     "languageId": "r"
    }
   },
   "outputs": [],
   "source": [
    "suppressPackageStartupMessages(library(srt))\n",
    "suppressPackageStartupMessages(library(tm))\n",
    "suppressPackageStartupMessages(library(tidyverse))\n",
    "suppressPackageStartupMessages(library(textstem))\n",
    "suppressPackageStartupMessages(library(tidytext))\n",
    "suppressPackageStartupMessages(library(zoo))\n",
    "suppressPackageStartupMessages(library(dplyr))"
   ]
  },
  {
   "cell_type": "markdown",
   "metadata": {},
   "source": [
    "Get the names of our files for reading."
   ]
  },
  {
   "cell_type": "code",
   "execution_count": 16,
   "metadata": {
    "vscode": {
     "languageId": "r"
    }
   },
   "outputs": [],
   "source": [
    "filenames <- list.files(path=\"./GilmoreGirls\",pattern=\"*.srt\")\n",
    "# head(filenames)"
   ]
  },
  {
   "cell_type": "markdown",
   "metadata": {},
   "source": [
    "Create Meta-table to aggregate data from all the episodes "
   ]
  },
  {
   "cell_type": "code",
   "execution_count": 17,
   "metadata": {
    "vscode": {
     "languageId": "r"
    }
   },
   "outputs": [],
   "source": [
    "meta <- data.frame(\n",
    "    episodeName=character(),\n",
    "    fullSubtitles=character(),\n",
    "    subtitleCount=numeric(),\n",
    "    wordCount=numeric(),\n",
    "    runTime=numeric(),\n",
    "    speakingTime=numeric(),\n",
    "\n",
    "    averageWPM=numeric(),\n",
    "    stdWPM=numeric(),\n",
    "\n",
    "    averageSubtitleLength=numeric(),\n",
    "    stdSubtitleLength=numeric(),\n",
    "\n",
    "    averageSubtitleWPM = numeric(),\n",
    "    stdSubtitleWPM = numeric(),\n",
    "\n",
    "    averageduration = numeric(),\n",
    "    stdDuration = numeric(),\n",
    "\n",
    "    stringsAsFactors = FALSE\n",
    ")"
   ]
  },
  {
   "cell_type": "markdown",
   "metadata": {},
   "source": [
    "Now the main function to create a file for each episode, as well as adding rows to our meta table"
   ]
  },
  {
   "cell_type": "code",
   "execution_count": 18,
   "metadata": {
    "vscode": {
     "languageId": "r"
    }
   },
   "outputs": [],
   "source": [
    "readFileByIndex <- function(i){\n",
    "\n",
    "    # some variables parsed from filenames\n",
    "    episodeCode <- str_extract(filenames[i],\"[0-9]+.*?[0-9]+\")\n",
    "    title <- str_extract(filenames[i],\"(?<=[0-9]\\\\s-\\\\s).*(?=\\\\.en)\")\n",
    "    season <- str_extract(filenames[i],\"(?<=(\\\\s-\\\\s)).*?(?=x)\")\n",
    "    episode <- str_extract(filenames[i],\"(?<=([0-9]x)).*?(?=\\\\s)\")\n",
    "    prefix <- paste(getwd(),\"/GilmoreGirls/\",sep=\"\")\n",
    "     \n",
    "\n",
    "    df <- read_srt(paste(prefix,filenames[i],sep=\"\"))\n",
    "    df <- df[-nrow(df),] #drop last row because it's credit information\n",
    "\n",
    "    # some functions to clean up\n",
    "    dropPunct <- (function (x) gsub('[[:punct:]]+','',x))\n",
    "    dropNL <- (function(x) gsub(\"\\n\", \" \", x))\n",
    "\n",
    "    # create new csv for\n",
    "    df <- df %>% \n",
    "        mutate(subtitle = sapply(subtitle,tolower)) %>%\n",
    "\n",
    "        # cleanWords will clean up punctuation \n",
    "        mutate(cleanWords = sapply(subtitle,dropNL)) %>%\n",
    "        mutate(cleanWords = sapply(cleanWords,removePunctuation)) %>%\n",
    "\n",
    "        mutate(wordCount = sapply(strsplit(cleanWords,\"\\\\s+\"),length)) %>%\n",
    "        mutate(cumWordCount = cumsum(wordCount)) %>%\n",
    "\n",
    "        # deepCleanWords, for advanced processing\n",
    "        # mutate(deepCleanWords = sapply(cleanWords,removeWords,stopwords('english'))) %>%\n",
    "        # mutate(deepCleanWords = sapply(deepCleanWords, textstem::lemmatize_strings))\n",
    "        \n",
    "        mutate(minute = (1+floor(end / 60))) %>%\n",
    "        mutate(duration = (end-start)/ 60) %>%\n",
    "        mutate(subtitleWPM = wordCount/duration) %>% # All words / total time\n",
    "        mutate(cumTimeSpeaking = cumsum(duration)) %>%\n",
    "        mutate(rollingWPM = rollmean(cumWordCount/(end/60),k=5,fill=0)) \n",
    "        # mutate(rollingWPMSpeaking = rollmean(cumWordCount/cumTimeSpeaking,k=10,fill=0)) # All words / time talking\n",
    "\n",
    "    # assemble row for Meta table\n",
    "    temp <- data.frame(\n",
    "        episodeName     = paste(episodeCode,' - ',title,collapse = \"\"),\n",
    "        subtitleCount   = nrow(df),\n",
    "        fullSubtitles   = paste(df$subtitle,collapse = ' '),\n",
    "        totalWordCount   = sum(sapply(strsplit(paste(df$subtitle),\"\\\\s+\"), length)),\n",
    "        runTime         = df$end[length(df$end)],\n",
    "        speakingTime    = df$cumTimeSpeaking[length(df$cumTimeSpeaking)],\n",
    "\n",
    "        averageWPM      = mean(df$rollingWPM, na.rm = TRUE),\n",
    "        stdWPM          = sd(df$rollingWPM, na.rm = TRUE),\n",
    "\n",
    "        averageSubtitleLength = mean(df$wordCount, na.rm = TRUE),\n",
    "        stdSubtitleLength = sd(df$wordCount, na.rm = TRUE),\n",
    "\n",
    "        averageSubtitleWPM = mean(df$subtitleWPM, na.rm = TRUE),\n",
    "        stdSubtitleWPM  = sd(df$subtitleWPM, na.rm = TRUE),\n",
    "\n",
    "        averageDuration = mean(df$duration, na.rm = TRUE),\n",
    "        stdDuration     = mean(df$duration, na.rm = TRUE)\n",
    "    )\n",
    "\n",
    "    write.csv(df,paste('episode_analysis/',episodeCode,' - ',title,collapse=\"\"))\n",
    "\n",
    "    meta <<- rbind(meta,temp)\n",
    "\n",
    "\n",
    "    return(df)\n",
    "}"
   ]
  },
  {
   "cell_type": "markdown",
   "metadata": {},
   "source": [
    "Check data, and save a copy to double check it in a csv reader."
   ]
  },
  {
   "cell_type": "code",
   "execution_count": 19,
   "metadata": {
    "vscode": {
     "languageId": "r"
    }
   },
   "outputs": [
    {
     "data": {
      "text/html": [
       "<table class=\"dataframe\">\n",
       "<caption>A data.frame: 6 × 13</caption>\n",
       "<thead>\n",
       "\t<tr><th></th><th scope=col>episodeName</th><th scope=col>subtitleCount</th><th scope=col>totalWordCount</th><th scope=col>runTime</th><th scope=col>speakingTime</th><th scope=col>averageWPM</th><th scope=col>stdWPM</th><th scope=col>averageSubtitleLength</th><th scope=col>stdSubtitleLength</th><th scope=col>averageSubtitleWPM</th><th scope=col>stdSubtitleWPM</th><th scope=col>averageDuration</th><th scope=col>stdDuration</th></tr>\n",
       "\t<tr><th></th><th scope=col>&lt;chr&gt;</th><th scope=col>&lt;int&gt;</th><th scope=col>&lt;int&gt;</th><th scope=col>&lt;dbl&gt;</th><th scope=col>&lt;dbl&gt;</th><th scope=col>&lt;dbl&gt;</th><th scope=col>&lt;dbl&gt;</th><th scope=col>&lt;dbl&gt;</th><th scope=col>&lt;dbl&gt;</th><th scope=col>&lt;dbl&gt;</th><th scope=col>&lt;dbl&gt;</th><th scope=col>&lt;dbl&gt;</th><th scope=col>&lt;dbl&gt;</th></tr>\n",
       "</thead>\n",
       "<tbody>\n",
       "\t<tr><th scope=row>1</th><td>1x01  -  Pilot                             </td><td>683</td><td>5443</td><td>2597.533</td><td>28.70083</td><td>1.844556</td><td>0.2964811</td><td>7.734993</td><td>3.549200</td><td>178.8581</td><td>54.85999</td><td>0.04202172</td><td>0.04202172</td></tr>\n",
       "\t<tr><th scope=row>2</th><td>1x02  -  The Lorelais' First Day at Chilton</td><td>754</td><td>5930</td><td>2535.550</td><td>29.82103</td><td>2.028252</td><td>0.3194839</td><td>7.648541</td><td>3.625911</td><td>186.7461</td><td>57.94773</td><td>0.03955044</td><td>0.03955044</td></tr>\n",
       "\t<tr><th scope=row>3</th><td>1x03  -  Kill Me Now                       </td><td>757</td><td>6453</td><td>2579.825</td><td>31.77183</td><td>2.542794</td><td>0.2545724</td><td>8.224571</td><td>3.443770</td><td>193.1982</td><td>55.30976</td><td>0.04197072</td><td>0.04197072</td></tr>\n",
       "\t<tr><th scope=row>4</th><td>1x04  -  The Deer Hunters                  </td><td>785</td><td>6446</td><td>2623.680</td><td>32.20267</td><td>2.281355</td><td>0.2898894</td><td>7.950318</td><td>3.438428</td><td>190.9469</td><td>55.81081</td><td>0.04102251</td><td>0.04102251</td></tr>\n",
       "\t<tr><th scope=row>5</th><td>1x05  -  Cinnamon's Wake                   </td><td>711</td><td>5803</td><td>2531.652</td><td>29.40653</td><td>2.184570</td><td>0.3066847</td><td>7.890295</td><td>3.579174</td><td>186.0856</td><td>56.53549</td><td>0.04135940</td><td>0.04135940</td></tr>\n",
       "\t<tr><th scope=row>6</th><td>1x06  -  Rory's Birthday Parties           </td><td>751</td><td>6335</td><td>2605.976</td><td>31.36952</td><td>2.464732</td><td>0.2240742</td><td>8.166445</td><td>3.473748</td><td>192.4906</td><td>54.60029</td><td>0.04177033</td><td>0.04177033</td></tr>\n",
       "</tbody>\n",
       "</table>\n"
      ],
      "text/latex": [
       "A data.frame: 6 × 13\n",
       "\\begin{tabular}{r|lllllllllllll}\n",
       "  & episodeName & subtitleCount & totalWordCount & runTime & speakingTime & averageWPM & stdWPM & averageSubtitleLength & stdSubtitleLength & averageSubtitleWPM & stdSubtitleWPM & averageDuration & stdDuration\\\\\n",
       "  & <chr> & <int> & <int> & <dbl> & <dbl> & <dbl> & <dbl> & <dbl> & <dbl> & <dbl> & <dbl> & <dbl> & <dbl>\\\\\n",
       "\\hline\n",
       "\t1 & 1x01  -  Pilot                              & 683 & 5443 & 2597.533 & 28.70083 & 1.844556 & 0.2964811 & 7.734993 & 3.549200 & 178.8581 & 54.85999 & 0.04202172 & 0.04202172\\\\\n",
       "\t2 & 1x02  -  The Lorelais' First Day at Chilton & 754 & 5930 & 2535.550 & 29.82103 & 2.028252 & 0.3194839 & 7.648541 & 3.625911 & 186.7461 & 57.94773 & 0.03955044 & 0.03955044\\\\\n",
       "\t3 & 1x03  -  Kill Me Now                        & 757 & 6453 & 2579.825 & 31.77183 & 2.542794 & 0.2545724 & 8.224571 & 3.443770 & 193.1982 & 55.30976 & 0.04197072 & 0.04197072\\\\\n",
       "\t4 & 1x04  -  The Deer Hunters                   & 785 & 6446 & 2623.680 & 32.20267 & 2.281355 & 0.2898894 & 7.950318 & 3.438428 & 190.9469 & 55.81081 & 0.04102251 & 0.04102251\\\\\n",
       "\t5 & 1x05  -  Cinnamon's Wake                    & 711 & 5803 & 2531.652 & 29.40653 & 2.184570 & 0.3066847 & 7.890295 & 3.579174 & 186.0856 & 56.53549 & 0.04135940 & 0.04135940\\\\\n",
       "\t6 & 1x06  -  Rory's Birthday Parties            & 751 & 6335 & 2605.976 & 31.36952 & 2.464732 & 0.2240742 & 8.166445 & 3.473748 & 192.4906 & 54.60029 & 0.04177033 & 0.04177033\\\\\n",
       "\\end{tabular}\n"
      ],
      "text/markdown": [
       "\n",
       "A data.frame: 6 × 13\n",
       "\n",
       "| <!--/--> | episodeName &lt;chr&gt; | subtitleCount &lt;int&gt; | totalWordCount &lt;int&gt; | runTime &lt;dbl&gt; | speakingTime &lt;dbl&gt; | averageWPM &lt;dbl&gt; | stdWPM &lt;dbl&gt; | averageSubtitleLength &lt;dbl&gt; | stdSubtitleLength &lt;dbl&gt; | averageSubtitleWPM &lt;dbl&gt; | stdSubtitleWPM &lt;dbl&gt; | averageDuration &lt;dbl&gt; | stdDuration &lt;dbl&gt; |\n",
       "|---|---|---|---|---|---|---|---|---|---|---|---|---|---|\n",
       "| 1 | 1x01  -  Pilot                              | 683 | 5443 | 2597.533 | 28.70083 | 1.844556 | 0.2964811 | 7.734993 | 3.549200 | 178.8581 | 54.85999 | 0.04202172 | 0.04202172 |\n",
       "| 2 | 1x02  -  The Lorelais' First Day at Chilton | 754 | 5930 | 2535.550 | 29.82103 | 2.028252 | 0.3194839 | 7.648541 | 3.625911 | 186.7461 | 57.94773 | 0.03955044 | 0.03955044 |\n",
       "| 3 | 1x03  -  Kill Me Now                        | 757 | 6453 | 2579.825 | 31.77183 | 2.542794 | 0.2545724 | 8.224571 | 3.443770 | 193.1982 | 55.30976 | 0.04197072 | 0.04197072 |\n",
       "| 4 | 1x04  -  The Deer Hunters                   | 785 | 6446 | 2623.680 | 32.20267 | 2.281355 | 0.2898894 | 7.950318 | 3.438428 | 190.9469 | 55.81081 | 0.04102251 | 0.04102251 |\n",
       "| 5 | 1x05  -  Cinnamon's Wake                    | 711 | 5803 | 2531.652 | 29.40653 | 2.184570 | 0.3066847 | 7.890295 | 3.579174 | 186.0856 | 56.53549 | 0.04135940 | 0.04135940 |\n",
       "| 6 | 1x06  -  Rory's Birthday Parties            | 751 | 6335 | 2605.976 | 31.36952 | 2.464732 | 0.2240742 | 8.166445 | 3.473748 | 192.4906 | 54.60029 | 0.04177033 | 0.04177033 |\n",
       "\n"
      ],
      "text/plain": [
       "  episodeName                                 subtitleCount totalWordCount\n",
       "1 1x01  -  Pilot                              683           5443          \n",
       "2 1x02  -  The Lorelais' First Day at Chilton 754           5930          \n",
       "3 1x03  -  Kill Me Now                        757           6453          \n",
       "4 1x04  -  The Deer Hunters                   785           6446          \n",
       "5 1x05  -  Cinnamon's Wake                    711           5803          \n",
       "6 1x06  -  Rory's Birthday Parties            751           6335          \n",
       "  runTime  speakingTime averageWPM stdWPM    averageSubtitleLength\n",
       "1 2597.533 28.70083     1.844556   0.2964811 7.734993             \n",
       "2 2535.550 29.82103     2.028252   0.3194839 7.648541             \n",
       "3 2579.825 31.77183     2.542794   0.2545724 8.224571             \n",
       "4 2623.680 32.20267     2.281355   0.2898894 7.950318             \n",
       "5 2531.652 29.40653     2.184570   0.3066847 7.890295             \n",
       "6 2605.976 31.36952     2.464732   0.2240742 8.166445             \n",
       "  stdSubtitleLength averageSubtitleWPM stdSubtitleWPM averageDuration\n",
       "1 3.549200          178.8581           54.85999       0.04202172     \n",
       "2 3.625911          186.7461           57.94773       0.03955044     \n",
       "3 3.443770          193.1982           55.30976       0.04197072     \n",
       "4 3.438428          190.9469           55.81081       0.04102251     \n",
       "5 3.579174          186.0856           56.53549       0.04135940     \n",
       "6 3.473748          192.4906           54.60029       0.04177033     \n",
       "  stdDuration\n",
       "1 0.04202172 \n",
       "2 0.03955044 \n",
       "3 0.04197072 \n",
       "4 0.04102251 \n",
       "5 0.04135940 \n",
       "6 0.04177033 "
      ]
     },
     "metadata": {},
     "output_type": "display_data"
    }
   ],
   "source": [
    "for (i in 1:length(filenames)){\n",
    "    testdf <- readFileByIndex(i)\n",
    "    # if (i %% 10){\n",
    "    #     print(tail(testdf,1))\n",
    "    # }\n",
    "}\n",
    "\n",
    "metaSkipSubs <- meta[,!(names(meta) %in% \"fullSubtitles\")]\n",
    "head(metaSkipSubs)\n",
    "\n",
    "write.csv(meta,paste('meta.csv',collapse=\"\"))\n",
    "\n"
   ]
  },
  {
   "cell_type": "code",
   "execution_count": 20,
   "metadata": {
    "vscode": {
     "languageId": "r"
    }
   },
   "outputs": [
    {
     "data": {
      "image/png": "[encoded data removed]",
      "text/plain": [
       "Plot with title \"Words Per Minute in pilot of Gilmore Girls\""
      ]
     },
     "metadata": {
      "image/png": {
       "height": 420,
       "width": 420
      }
     },
     "output_type": "display_data"
    }
   ],
   "source": [
    "# paste(testdf$cleanWords,collapse = \" \")\n",
    "\n",
    "plot(testdf$start/60,testdf$subtitleWPM, xlab=\"Time (Minutes)\",ylab=\"WPM\", main='Words Per Minute in pilot of Gilmore Girls',\n",
    " col='gray',ylim=c(0,16))\n",
    "\n",
    "       lines(testdf$start/60,testdf$rollingWPM,col=\"blue\")\n",
    "       # lines(testdf$start/60,testdf$rollingWPMSpeaking,col=\"red\")\n",
    "       legend(\"topright\", legend = c(\"Subtitle WPM (Instantaneous)\", \"Rolling WPM Total\"),\n",
    "              col = c(\"gray\", \"blue\"), lwd = 2)"
   ]
  },
  {
   "cell_type": "code",
   "execution_count": 21,
   "metadata": {
    "vscode": {
     "languageId": "r"
    }
   },
   "outputs": [
    {
     "data": {
      "text/html": [
       "<table class=\"dataframe\">\n",
       "<caption>A tibble: 6 × 12</caption>\n",
       "<thead>\n",
       "\t<tr><th scope=col>n</th><th scope=col>start</th><th scope=col>end</th><th scope=col>subtitle</th><th scope=col>cleanWords</th><th scope=col>wordCount</th><th scope=col>cumWordCount</th><th scope=col>minute</th><th scope=col>duration</th><th scope=col>subtitleWPM</th><th scope=col>cumTimeSpeaking</th><th scope=col>rollingWPM</th></tr>\n",
       "\t<tr><th scope=col>&lt;int&gt;</th><th scope=col>&lt;dbl&gt;</th><th scope=col>&lt;dbl&gt;</th><th scope=col>&lt;chr&gt;</th><th scope=col>&lt;chr&gt;</th><th scope=col>&lt;int&gt;</th><th scope=col>&lt;int&gt;</th><th scope=col>&lt;dbl&gt;</th><th scope=col>&lt;dbl&gt;</th><th scope=col>&lt;dbl&gt;</th><th scope=col>&lt;dbl&gt;</th><th scope=col>&lt;dbl&gt;</th></tr>\n",
       "</thead>\n",
       "<tbody>\n",
       "\t<tr><td>1</td><td>0.455</td><td> 2.222</td><td>previously on gilmore girls...                     </td><td>previously on gilmore girls                     </td><td> 4</td><td> 4</td><td>1</td><td>0.02945000</td><td>135.82343</td><td>0.02945000</td><td>0.000000</td></tr>\n",
       "\t<tr><td>2</td><td>2.223</td><td> 4.423</td><td>i didn't get the internship\n",
       "at the new york times.</td><td>i didnt get the internship at the new york times</td><td>10</td><td>14</td><td>1</td><td>0.03666667</td><td>272.72727</td><td>0.06611667</td><td>0.000000</td></tr>\n",
       "\t<tr><td>3</td><td>4.458</td><td> 5.078</td><td>what?                                              </td><td>what                                            </td><td> 1</td><td>15</td><td>1</td><td>0.01033333</td><td> 96.77419</td><td>0.07645000</td><td>2.909732</td></tr>\n",
       "\t<tr><td>4</td><td>5.113</td><td> 7.373</td><td>- we heard the song.\n",
       "- it gave me goose bumps.    </td><td> we heard the song  it gave me goose bumps      </td><td>10</td><td>25</td><td>1</td><td>0.03766667</td><td>265.48673</td><td>0.11411667</td><td>3.153926</td></tr>\n",
       "\t<tr><td>5</td><td>7.408</td><td> 9.881</td><td>the way you locked eyes with him.                  </td><td>the way you locked eyes with him                </td><td> 7</td><td>32</td><td>1</td><td>0.04121667</td><td>169.83421</td><td>0.15533333</td><td>3.184661</td></tr>\n",
       "\t<tr><td>6</td><td>9.916</td><td>12.578</td><td>no, no, no. it's just karaoke.                     </td><td>no no no its just karaoke                       </td><td> 6</td><td>38</td><td>1</td><td>0.04436667</td><td>135.23666</td><td>0.19970000</td><td>3.259435</td></tr>\n",
       "</tbody>\n",
       "</table>\n"
      ],
      "text/latex": [
       "A tibble: 6 × 12\n",
       "\\begin{tabular}{llllllllllll}\n",
       " n & start & end & subtitle & cleanWords & wordCount & cumWordCount & minute & duration & subtitleWPM & cumTimeSpeaking & rollingWPM\\\\\n",
       " <int> & <dbl> & <dbl> & <chr> & <chr> & <int> & <int> & <dbl> & <dbl> & <dbl> & <dbl> & <dbl>\\\\\n",
       "\\hline\n",
       "\t 1 & 0.455 &  2.222 & previously on gilmore girls...                      & previously on gilmore girls                      &  4 &  4 & 1 & 0.02945000 & 135.82343 & 0.02945000 & 0.000000\\\\\n",
       "\t 2 & 2.223 &  4.423 & i didn't get the internship\n",
       "at the new york times. & i didnt get the internship at the new york times & 10 & 14 & 1 & 0.03666667 & 272.72727 & 0.06611667 & 0.000000\\\\\n",
       "\t 3 & 4.458 &  5.078 & what?                                               & what                                             &  1 & 15 & 1 & 0.01033333 &  96.77419 & 0.07645000 & 2.909732\\\\\n",
       "\t 4 & 5.113 &  7.373 & - we heard the song.\n",
       "- it gave me goose bumps.     &  we heard the song  it gave me goose bumps       & 10 & 25 & 1 & 0.03766667 & 265.48673 & 0.11411667 & 3.153926\\\\\n",
       "\t 5 & 7.408 &  9.881 & the way you locked eyes with him.                   & the way you locked eyes with him                 &  7 & 32 & 1 & 0.04121667 & 169.83421 & 0.15533333 & 3.184661\\\\\n",
       "\t 6 & 9.916 & 12.578 & no, no, no. it's just karaoke.                      & no no no its just karaoke                        &  6 & 38 & 1 & 0.04436667 & 135.23666 & 0.19970000 & 3.259435\\\\\n",
       "\\end{tabular}\n"
      ],
      "text/markdown": [
       "\n",
       "A tibble: 6 × 12\n",
       "\n",
       "| n &lt;int&gt; | start &lt;dbl&gt; | end &lt;dbl&gt; | subtitle &lt;chr&gt; | cleanWords &lt;chr&gt; | wordCount &lt;int&gt; | cumWordCount &lt;int&gt; | minute &lt;dbl&gt; | duration &lt;dbl&gt; | subtitleWPM &lt;dbl&gt; | cumTimeSpeaking &lt;dbl&gt; | rollingWPM &lt;dbl&gt; |\n",
       "|---|---|---|---|---|---|---|---|---|---|---|---|\n",
       "| 1 | 0.455 |  2.222 | previously on gilmore girls...                      | previously on gilmore girls                      |  4 |  4 | 1 | 0.02945000 | 135.82343 | 0.02945000 | 0.000000 |\n",
       "| 2 | 2.223 |  4.423 | i didn't get the internship\n",
       "at the new york times. | i didnt get the internship at the new york times | 10 | 14 | 1 | 0.03666667 | 272.72727 | 0.06611667 | 0.000000 |\n",
       "| 3 | 4.458 |  5.078 | what?                                               | what                                             |  1 | 15 | 1 | 0.01033333 |  96.77419 | 0.07645000 | 2.909732 |\n",
       "| 4 | 5.113 |  7.373 | - we heard the song.\n",
       "- it gave me goose bumps.     |  we heard the song  it gave me goose bumps       | 10 | 25 | 1 | 0.03766667 | 265.48673 | 0.11411667 | 3.153926 |\n",
       "| 5 | 7.408 |  9.881 | the way you locked eyes with him.                   | the way you locked eyes with him                 |  7 | 32 | 1 | 0.04121667 | 169.83421 | 0.15533333 | 3.184661 |\n",
       "| 6 | 9.916 | 12.578 | no, no, no. it's just karaoke.                      | no no no its just karaoke                        |  6 | 38 | 1 | 0.04436667 | 135.23666 | 0.19970000 | 3.259435 |\n",
       "\n"
      ],
      "text/plain": [
       "  n start end    subtitle                                           \n",
       "1 1 0.455  2.222 previously on gilmore girls...                     \n",
       "2 2 2.223  4.423 i didn't get the internship\\nat the new york times.\n",
       "3 3 4.458  5.078 what?                                              \n",
       "4 4 5.113  7.373 - we heard the song.\\n- it gave me goose bumps.    \n",
       "5 5 7.408  9.881 the way you locked eyes with him.                  \n",
       "6 6 9.916 12.578 no, no, no. it's just karaoke.                     \n",
       "  cleanWords                                       wordCount cumWordCount\n",
       "1 previously on gilmore girls                       4         4          \n",
       "2 i didnt get the internship at the new york times 10        14          \n",
       "3 what                                              1        15          \n",
       "4  we heard the song  it gave me goose bumps       10        25          \n",
       "5 the way you locked eyes with him                  7        32          \n",
       "6 no no no its just karaoke                         6        38          \n",
       "  minute duration   subtitleWPM cumTimeSpeaking rollingWPM\n",
       "1 1      0.02945000 135.82343   0.02945000      0.000000  \n",
       "2 1      0.03666667 272.72727   0.06611667      0.000000  \n",
       "3 1      0.01033333  96.77419   0.07645000      2.909732  \n",
       "4 1      0.03766667 265.48673   0.11411667      3.153926  \n",
       "5 1      0.04121667 169.83421   0.15533333      3.184661  \n",
       "6 1      0.04436667 135.23666   0.19970000      3.259435  "
      ]
     },
     "metadata": {},
     "output_type": "display_data"
    }
   ],
   "source": [
    "head(testdf[testdf$subtitleWPM >5,])"
   ]
  },
  {
   "cell_type": "code",
   "execution_count": null,
   "metadata": {
    "vscode": {
     "languageId": "r"
    }
   },
   "outputs": [],
   "source": []
  }
 ],
 "metadata": {
  "kernelspec": {
   "display_name": "R",
   "language": "R",
   "name": "ir"
  },
  "language_info": {
   "codemirror_mode": "r",
   "file_extension": ".r",
   "mimetype": "text/x-r-source",
   "name": "R",
   "pygments_lexer": "r",
   "version": "4.2.2"
  },
  "orig_nbformat": 4
 },
 "nbformat": 4,
 "nbformat_minor": 2
}
